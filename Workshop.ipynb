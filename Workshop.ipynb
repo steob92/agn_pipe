{
 "cells": [
  {
   "cell_type": "code",
   "execution_count": 1,
   "id": "43f2e60b-7daf-4d58-b8be-f54ab0a3214d",
   "metadata": {},
   "outputs": [],
   "source": [
    "%load_ext autoreload\n",
    "%autoreload 2\n"
   ]
  },
  {
   "cell_type": "code",
   "execution_count": 23,
   "id": "82fad5c6-6645-4669-852c-4f2af290d3c2",
   "metadata": {},
   "outputs": [],
   "source": [
    "from gammapy.data import DataStore\n",
    "from astropy.coordinates import SkyCoord\n",
    "from astropy.time import Time\n",
    "from agn_pipe.query import  get_exclusion_regions, query_datastore"
   ]
  },
  {
   "cell_type": "code",
   "execution_count": 24,
   "id": "08f66c91-009b-4662-99b6-decf3cedc18d",
   "metadata": {},
   "outputs": [],
   "source": [
    "c = SkyCoord.from_name(\"1ES 2344+514\")\n",
    "fname = \"/raid/RAID1/VERITAS_Data/gammapy/dl3_fullenclosure_moderate2tel_runwise/\"\n",
    "ra = c.ra.deg\n",
    "dec = c.dec.deg\n",
    "search_cone = 2.0\n",
    "tstart = Time(\"2007-01-01T00:00:00\")\n",
    "tstop = Time(\"2020-03-01T00:00:00\")\n"
   ]
  },
  {
   "cell_type": "code",
   "execution_count": 25,
   "id": "6017c39d-2c8d-4dc6-938f-603fc69a2c23",
   "metadata": {},
   "outputs": [],
   "source": [
    "data_store = DataStore.from_dir(fname)"
   ]
  },
  {
   "cell_type": "code",
   "execution_count": 26,
   "id": "e9b354d3-e8cb-4534-8aca-9e22e8baccbe",
   "metadata": {},
   "outputs": [
    {
     "data": {
      "text/html": [
       "<div><i>ObservationTable length=358</i>\n",
       "<table id=\"table137139616249424\" class=\"table-striped table-bordered table-condensed\">\n",
       "<thead><tr><th>OBS_ID</th><th>RA_PNT</th><th>DEC_PNT</th><th>ZEN_PNT</th><th>ALT_PNT</th><th>AZ_PNT</th><th>ONTIME</th><th>LIVETIME</th><th>DEADC</th><th>TSTART</th><th>TSTOP</th><th>N_TELS</th><th>TELLIST</th><th>OBJECT</th><th>RA_OBJ</th><th>DEC_OBJ</th><th>DATE-OBS</th><th>DATE-AVG</th><th>DATE-END</th><th>NSBLEVEL</th></tr></thead>\n",
       "<thead><tr><th></th><th>deg</th><th>deg</th><th>deg</th><th>deg</th><th>deg</th><th>s</th><th>s</th><th></th><th>s</th><th>s</th><th></th><th></th><th></th><th>deg</th><th>deg</th><th></th><th></th><th></th><th></th></tr></thead>\n",
       "<thead><tr><th>int64</th><th>float32</th><th>float32</th><th>float32</th><th>float32</th><th>float32</th><th>float32</th><th>float32</th><th>float32</th><th>float32</th><th>float32</th><th>int64</th><th>bytes20</th><th>bytes20</th><th>float32</th><th>float32</th><th>bytes20</th><th>bytes20</th><th>bytes20</th><th>float32</th></tr></thead>\n",
       "<tr><td>91540</td><td>-3.2298782</td><td>52.20503</td><td>24.988644</td><td>65.01136</td><td>331.01257</td><td>1621.0</td><td>1497.6868</td><td>0.92392766</td><td>437453100.0</td><td>437454900.0</td><td>4</td><td>T1,T2,T3,T4</td><td>1ES2344+514</td><td>356.77</td><td>51.70503</td><td>2018-12-13T02:44:56.</td><td>2018-12-13T02:59:56.</td><td>2018-12-13T03:14:56.</td><td>7.8200083</td></tr>\n",
       "<tr><td>100366</td><td>-4.0368075</td><td>51.70236</td><td>20.094006</td><td>69.906</td><td>0.4251815</td><td>1801.0</td><td>1555.5691</td><td>0.86372524</td><td>529040670.0</td><td>529042460.0</td><td>4</td><td>T1,T2,T3,T4</td><td>1ES2344+514</td><td>356.77</td><td>51.70503</td><td>2021-11-07T03:44:33.</td><td>2021-11-07T03:59:33.</td><td>2021-11-07T04:14:34.</td><td>7.309654</td></tr>\n",
       "<tr><td>58115</td><td>-3.2300913</td><td>51.20503</td><td>22.494516</td><td>67.505486</td><td>334.63992</td><td>902.0</td><td>849.22754</td><td>0.9414939</td><td>212047090.0</td><td>212048290.0</td><td>4</td><td>T1,T2,T3,T4</td><td>1ES2344+514</td><td>356.77</td><td>51.70503</td><td>2011-10-22T05:58:00.</td><td>2011-10-22T06:08:01.</td><td>2011-10-22T06:18:02.</td><td>5.902481</td></tr>\n",
       "<tr><td>43181</td><td>-2.4232147</td><td>51.70223</td><td>20.249977</td><td>69.75002</td><td>354.4558</td><td>69.0</td><td>62.691395</td><td>0.90857095</td><td>120108056.0</td><td>120108120.0</td><td>4</td><td>T1,T2,T3,T4</td><td>1ES2344+514</td><td>356.77</td><td>51.70503</td><td>2008-11-22T03:20:53.</td><td>2008-11-22T03:21:27.</td><td>2008-11-22T03:22:01.</td><td>4.980234</td></tr>\n",
       "<tr><td>64192</td><td>-3.230098</td><td>51.20503</td><td>21.027796</td><td>68.972206</td><td>341.0751</td><td>1202.0</td><td>1017.38727</td><td>0.846412</td><td>243237600.0</td><td>243238800.0</td><td>4</td><td>T1,T2,T3,T4</td><td>1ES2344+514</td><td>356.77</td><td>51.70503</td><td>2012-10-17T05:59:58.</td><td>2012-10-17T06:09:59.</td><td>2012-10-17T06:20:00.</td><td>7.8332186</td></tr>\n",
       "<tr><td>75183</td><td>-4.036807</td><td>51.70233</td><td>20.111921</td><td>69.88808</td><td>3.3943107</td><td>1505.0</td><td>1266.917</td><td>0.8418053</td><td>309063520.0</td><td>309065020.0</td><td>4</td><td>T1,T2,T3,T4</td><td>1ES2344+514</td><td>356.77</td><td>51.70503</td><td>2014-11-18T02:58:34.</td><td>2014-11-18T03:11:06.</td><td>2014-11-18T03:23:38.</td><td>6.59573</td></tr>\n",
       "<tr><td>94513</td><td>-4.0368075</td><td>51.70235</td><td>22.211025</td><td>67.78898</td><td>338.29385</td><td>1741.0</td><td>1533.2745</td><td>0.8806861</td><td>465454800.0</td><td>465456580.0</td><td>4</td><td>T1,T2,T3,T4</td><td>1ES2344+514</td><td>356.77</td><td>51.70503</td><td>2019-11-02T04:59:44.</td><td>2019-11-02T05:14:44.</td><td>2019-11-02T05:29:44.</td><td>6.27253</td></tr>\n",
       "<tr><td>64245</td><td>-3.230098</td><td>51.20503</td><td>20.542107</td><td>69.45789</td><td>344.29395</td><td>1202.0</td><td>1023.8006</td><td>0.8517476</td><td>243495540.0</td><td>243496740.0</td><td>4</td><td>T1,T2,T3,T4</td><td>1ES2344+514</td><td>356.77</td><td>51.70503</td><td>2012-10-20T05:38:50.</td><td>2012-10-20T05:48:51.</td><td>2012-10-20T05:58:52.</td><td>6.85608</td></tr>\n",
       "<tr><td>84024</td><td>-3.2301254</td><td>51.20503</td><td>20.307274</td><td>69.692726</td><td>346.23178</td><td>901.0</td><td>778.82196</td><td>0.8643973</td><td>373603200.0</td><td>373604100.0</td><td>4</td><td>T1,T2,T3,T4</td><td>1ES2344+514</td><td>356.77</td><td>51.70503</td><td>2016-12-04T02:39:53.</td><td>2016-12-04T02:47:23.</td><td>2016-12-04T02:54:53.</td><td>7.010485</td></tr>\n",
       "<tr><td>52520</td><td>-3.2300844</td><td>51.20503</td><td>19.54438</td><td>70.45562</td><td>355.1662</td><td>1203.0</td><td>1075.5859</td><td>0.89408636</td><td>179646500.0</td><td>179647710.0</td><td>4</td><td>T1,T2,T3,T4</td><td>1ES2344+514</td><td>356.77</td><td>51.70503</td><td>2010-10-12T05:48:21.</td><td>2010-10-12T05:58:22.</td><td>2010-10-12T06:08:23.</td><td>5.8828816</td></tr>\n",
       "<tr><td>75607</td><td>-3.2299051</td><td>52.20503</td><td>22.494026</td><td>67.505974</td><td>339.59552</td><td>1201.0</td><td>1016.6134</td><td>0.84647244</td><td>311393730.0</td><td>311394900.0</td><td>4</td><td>T1,T2,T3,T4</td><td>1ES2344+514</td><td>356.77</td><td>51.70503</td><td>2014-12-15T02:15:23.</td><td>2014-12-15T02:25:23.</td><td>2014-12-15T02:35:24.</td><td>6.701083</td></tr>\n",
       "<tr><td>79140</td><td>-2.4232152</td><td>51.702198</td><td>20.389368</td><td>69.610634</td><td>350.3617</td><td>901.0</td><td>769.211</td><td>0.85373026</td><td>339826530.0</td><td>339827420.0</td><td>4</td><td>T1,T2,T3,T4</td><td>1ES2344+514</td><td>356.77</td><td>51.70503</td><td>2015-11-09T04:15:09.</td><td>2015-11-09T04:22:39.</td><td>2015-11-09T04:30:09.</td><td>6.391738</td></tr>\n",
       "<tr><td>53573</td><td>-3.2300854</td><td>51.20503</td><td>31.491444</td><td>58.508556</td><td>318.06912</td><td>1203.0</td><td>1105.5399</td><td>0.91898584</td><td>184306900.0</td><td>184308100.0</td><td>4</td><td>T1,T2,T3,T4</td><td>1ES2344+514</td><td>356.77</td><td>51.70503</td><td>2010-12-05T04:21:31.</td><td>2010-12-05T04:31:32.</td><td>2010-12-05T04:41:33.</td><td>5.4045215</td></tr>\n",
       "<tr><td>79854</td><td>-4.036807</td><td>51.702335</td><td>29.87836</td><td>60.12164</td><td>320.85352</td><td>1441.0</td><td>1222.1506</td><td>0.84812677</td><td>343019620.0</td><td>343021400.0</td><td>4</td><td>T1,T2,T3,T4</td><td>1ES2344+514</td><td>356.77</td><td>51.70503</td><td>2015-12-16T03:13:23.</td><td>2015-12-16T03:28:23.</td><td>2015-12-16T03:43:23.</td><td>7.918147</td></tr>\n",
       "<tr><td>52996</td><td>-4.0368066</td><td>51.702312</td><td>20.34219</td><td>69.657814</td><td>351.38123</td><td>1203.0</td><td>1095.2764</td><td>0.91045415</td><td>181714830.0</td><td>181716030.0</td><td>4</td><td>T1,T2,T3,T4</td><td>1ES2344+514</td><td>356.77</td><td>51.70503</td><td>2010-11-05T04:20:24.</td><td>2010-11-05T04:30:25.</td><td>2010-11-05T04:40:26.</td><td>5.989218</td></tr>\n",
       "<tr><td>65240</td><td>-3.229919</td><td>52.20503</td><td>20.734463</td><td>69.26553</td><td>6.912008</td><td>1202.0</td><td>1006.0531</td><td>0.8369826</td><td>247542240.0</td><td>247543440.0</td><td>4</td><td>T1,T2,T3,T4</td><td>1ES2344+514</td><td>356.77</td><td>51.70503</td><td>2012-12-06T01:43:49.</td><td>2012-12-06T01:53:50.</td><td>2012-12-06T02:03:51.</td><td>6.8641815</td></tr>\n",
       "<tr><td>96952</td><td>-3.2301517</td><td>51.20503</td><td>20.031832</td><td>69.96817</td><td>348.9601</td><td>1140.0</td><td>980.52277</td><td>0.86010766</td><td>500177730.0</td><td>500179520.0</td><td>4</td><td>T1,T2,T3,T4</td><td>1ES2344+514</td><td>356.77</td><td>51.70503</td><td>2020-12-08T02:15:15.</td><td>2020-12-08T02:30:15.</td><td>2020-12-08T02:45:15.</td><td>7.0946007</td></tr>\n",
       "<tr><td>...</td><td>...</td><td>...</td><td>...</td><td>...</td><td>...</td><td>...</td><td>...</td><td>...</td><td>...</td><td>...</td><td>...</td><td>...</td><td>...</td><td>...</td><td>...</td><td>...</td><td>...</td><td>...</td><td>...</td></tr>\n",
       "<tr><td>100854</td><td>-2.4232156</td><td>51.702175</td><td>31.073229</td><td>58.926773</td><td>319.68405</td><td>1801.0</td><td>1554.1825</td><td>0.8629553</td><td>531720100.0</td><td>531721920.0</td><td>4</td><td>T1,T2,T3,T4</td><td>1ES2344+514</td><td>356.77</td><td>51.70503</td><td>2021-12-08T04:01:45.</td><td>2021-12-08T04:16:45.</td><td>2021-12-08T04:31:45.</td><td>7.3594747</td></tr>\n",
       "<tr><td>38298</td><td>-3.2300649</td><td>51.20503</td><td>21.700264</td><td>68.299736</td><td>338.38333</td><td>1203.0</td><td>1091.3358</td><td>0.9071786</td><td>89779770.0</td><td>89780970.0</td><td>4</td><td>T1,T2,T3,T4</td><td>1ES2344+514</td><td>356.77</td><td>51.70503</td><td>2007-12-07T02:49:23.</td><td>2007-12-07T02:59:25.</td><td>2007-12-07T03:09:26.</td><td>5.015786</td></tr>\n",
       "<tr><td>38712</td><td>-3.2299528</td><td>52.20503</td><td>47.177757</td><td>42.822243</td><td>314.23248</td><td>1203.0</td><td>1092.4875</td><td>0.908136</td><td>92806610.0</td><td>92807810.0</td><td>4</td><td>T1,T2,T3,T4</td><td>1ES2344+514</td><td>356.77</td><td>51.70503</td><td>2008-01-11T03:36:48.</td><td>2008-01-11T03:46:49.</td><td>2008-01-11T03:56:50.</td><td>4.925018</td></tr>\n",
       "<tr><td>100119</td><td>-3.229859</td><td>52.20503</td><td>27.873978</td><td>62.126022</td><td>34.092186</td><td>1801.0</td><td>1588.9039</td><td>0.8822343</td><td>528087100.0</td><td>528088900.0</td><td>3</td><td>T1,T2,T3,T4</td><td>1ES2344+514</td><td>356.77</td><td>51.70503</td><td>2021-10-27T02:51:25.</td><td>2021-10-27T03:06:25.</td><td>2021-10-27T03:21:25.</td><td>7.9672666</td></tr>\n",
       "<tr><td>100945</td><td>-4.0368075</td><td>51.70236</td><td>35.00452</td><td>54.99548</td><td>316.77036</td><td>1801.0</td><td>1547.5923</td><td>0.8592961</td><td>533358370.0</td><td>533360200.0</td><td>4</td><td>T1,T2,T3,T4</td><td>1ES2344+514</td><td>356.77</td><td>51.70503</td><td>2021-12-27T03:06:18.</td><td>2021-12-27T03:21:18.</td><td>2021-12-27T03:36:18.</td><td>7.157009</td></tr>\n",
       "<tr><td>103127</td><td>-3.2301633</td><td>51.20503</td><td>22.380587</td><td>67.619415</td><td>334.78625</td><td>570.0</td><td>506.67868</td><td>0.88890994</td><td>556961900.0</td><td>556963140.0</td><td>4</td><td>T1,T2,T3,T4</td><td>1ES2344+514</td><td>356.77</td><td>51.70503</td><td>2022-09-26T07:38:29.</td><td>2022-09-26T07:48:29.</td><td>2022-09-26T07:58:29.</td><td>6.694904</td></tr>\n",
       "<tr><td>64015</td><td>-4.0368066</td><td>51.70232</td><td>27.33296</td><td>62.667038</td><td>324.54196</td><td>1202.0</td><td>1020.594</td><td>0.8490799</td><td>242723870.0</td><td>242725090.0</td><td>4</td><td>T1,T2,T3,T4</td><td>1ES2344+514</td><td>356.77</td><td>51.70503</td><td>2012-10-11T07:17:56.</td><td>2012-10-11T07:27:57.</td><td>2012-10-11T07:37:58.</td><td>7.4096465</td></tr>\n",
       "<tr><td>37934</td><td>-3.2300646</td><td>51.20503</td><td>20.945889</td><td>69.05411</td><td>342.60602</td><td>1204.0</td><td>1062.8197</td><td>0.8827406</td><td>87797340.0</td><td>87798540.0</td><td>4</td><td>T1,T2,T3,T4</td><td>1ES2344+514</td><td>356.77</td><td>51.70503</td><td>2007-11-14T04:09:02.</td><td>2007-11-14T04:19:03.</td><td>2007-11-14T04:29:05.</td><td>4.8620434</td></tr>\n",
       "<tr><td>53651</td><td>-4.0368066</td><td>51.702312</td><td>30.455027</td><td>59.544975</td><td>320.32758</td><td>1203.0</td><td>1105.884</td><td>0.9192718</td><td>184478430.0</td><td>184479650.0</td><td>4</td><td>T1,T2,T3,T4</td><td>1ES2344+514</td><td>356.77</td><td>51.70503</td><td>2010-12-07T04:00:36.</td><td>2010-12-07T04:10:37.</td><td>2010-12-07T04:20:38.</td><td>5.6114717</td></tr>\n",
       "<tr><td>78766</td><td>-3.2298994</td><td>52.20503</td><td>21.796774</td><td>68.203224</td><td>343.47363</td><td>901.0</td><td>768.677</td><td>0.8531376</td><td>337759500.0</td><td>337760400.0</td><td>4</td><td>T1,T2,T3,T4</td><td>1ES2344+514</td><td>356.77</td><td>51.70503</td><td>2015-10-16T06:04:53.</td><td>2015-10-16T06:12:23.</td><td>2015-10-16T06:19:53.</td><td>6.615571</td></tr>\n",
       "<tr><td>96951</td><td>-3.2298648</td><td>52.20503</td><td>20.547916</td><td>69.45208</td><td>359.19318</td><td>1441.0</td><td>1219.4933</td><td>0.8462826</td><td>500175870.0</td><td>500177700.0</td><td>4</td><td>T1,T2,T3,T4</td><td>1ES2344+514</td><td>356.77</td><td>51.70503</td><td>2020-12-08T01:44:38.</td><td>2020-12-08T01:59:38.</td><td>2020-12-08T02:14:38.</td><td>7.2765265</td></tr>\n",
       "<tr><td>79506</td><td>-3.2298987</td><td>52.20503</td><td>20.71975</td><td>69.28025</td><td>353.59186</td><td>751.0</td><td>643.554</td><td>0.8569295</td><td>341721570.0</td><td>341722460.0</td><td>4</td><td>T1,T2,T3,T4</td><td>1ES2344+514</td><td>356.77</td><td>51.70503</td><td>2015-12-01T02:39:29.</td><td>2015-12-01T02:47:00.</td><td>2015-12-01T02:54:30.</td><td>6.2857275</td></tr>\n",
       "<tr><td>84295</td><td>-2.4232152</td><td>51.702194</td><td>27.92139</td><td>62.07861</td><td>325.26166</td><td>901.0</td><td>856.60156</td><td>0.9507232</td><td>375762000.0</td><td>375762880.0</td><td>4</td><td>T1,T2,T3,T4</td><td>1ES2344+514</td><td>356.77</td><td>51.70503</td><td>2016-12-29T02:19:49.</td><td>2016-12-29T02:27:19.</td><td>2016-12-29T02:34:49.</td><td>6.706141</td></tr>\n",
       "<tr><td>104073</td><td>-3.2301648</td><td>51.20503</td><td>21.948347</td><td>68.05165</td><td>336.9801</td><td>1801.0</td><td>1566.685</td><td>0.8698973</td><td>563854460.0</td><td>563856260.0</td><td>4</td><td>T1,T2,T3,T4</td><td>1ES2344+514</td><td>356.77</td><td>51.70503</td><td>2022-12-15T02:14:25.</td><td>2022-12-15T02:29:25.</td><td>2022-12-15T02:44:25.</td><td>7.0003686</td></tr>\n",
       "<tr><td>97602</td><td>-3.2301524</td><td>51.20503</td><td>38.85953</td><td>51.14047</td><td>314.10303</td><td>1801.0</td><td>1683.3695</td><td>0.934686</td><td>503719700.0</td><td>503721500.0</td><td>4</td><td>T1,T2,T3,T4</td><td>1ES2344+514</td><td>356.77</td><td>51.70503</td><td>2021-01-18T02:08:23.</td><td>2021-01-18T02:23:23.</td><td>2021-01-18T02:38:23.</td><td>8.871712</td></tr>\n",
       "<tr><td>75110</td><td>-2.4232152</td><td>51.7022</td><td>20.128279</td><td>69.87172</td><td>355.99487</td><td>1801.0</td><td>1573.7216</td><td>0.87380433</td><td>308806180.0</td><td>308808000.0</td><td>4</td><td>T1,T2,T3,T4</td><td>1ES2344+514</td><td>356.77</td><td>51.70503</td><td>2014-11-15T03:29:48.</td><td>2014-11-15T03:44:48.</td><td>2014-11-15T03:59:48.</td><td>7.0195007</td></tr>\n",
       "<tr><td>37621</td><td>-2.4232144</td><td>51.702232</td><td>33.562443</td><td>56.437557</td><td>317.666</td><td>1804.0</td><td>1624.5623</td><td>0.9005334</td><td>87028320.0</td><td>87030120.0</td><td>4</td><td>T1,T2,T3,T4</td><td>1ES2344+514</td><td>356.77</td><td>51.70503</td><td>2007-11-05T06:31:57.</td><td>2007-11-05T06:46:59.</td><td>2007-11-05T07:02:01.</td><td>5.128206</td></tr>\n",
       "<tr><td>52579</td><td>-2.4232147</td><td>51.70222</td><td>26.327877</td><td>63.672123</td><td>326.23788</td><td>1203.0</td><td>1098.0839</td><td>0.9127879</td><td>179824080.0</td><td>179825280.0</td><td>4</td><td>T1,T2,T3,T4</td><td>1ES2344+514</td><td>356.77</td><td>51.70503</td><td>2010-10-14T07:07:56.</td><td>2010-10-14T07:17:57.</td><td>2010-10-14T07:27:58.</td><td>6.27156</td></tr>\n",
       "</table></div>"
      ],
      "text/plain": [
       "<ObservationTable length=358>\n",
       "OBS_ID   RA_PNT    DEC_PNT   ZEN_PNT   ALT_PNT    AZ_PNT   ONTIME  LIVETIME  ...    OBJECT    RA_OBJ DEC_OBJ        DATE-OBS             DATE-AVG             DATE-END        NSBLEVEL\n",
       "          deg        deg       deg       deg       deg       s        s      ...               deg     deg                                                                            \n",
       "int64   float32    float32   float32   float32   float32  float32  float32   ...   bytes20   float32 float32        bytes20              bytes20              bytes20         float32 \n",
       "------ ---------- --------- --------- --------- --------- ------- ---------- ... ----------- ------- -------- -------------------- -------------------- -------------------- ---------\n",
       " 91540 -3.2298782  52.20503 24.988644  65.01136 331.01257  1621.0  1497.6868 ... 1ES2344+514  356.77 51.70503 2018-12-13T02:44:56. 2018-12-13T02:59:56. 2018-12-13T03:14:56. 7.8200083\n",
       "100366 -4.0368075  51.70236 20.094006    69.906 0.4251815  1801.0  1555.5691 ... 1ES2344+514  356.77 51.70503 2021-11-07T03:44:33. 2021-11-07T03:59:33. 2021-11-07T04:14:34.  7.309654\n",
       " 58115 -3.2300913  51.20503 22.494516 67.505486 334.63992   902.0  849.22754 ... 1ES2344+514  356.77 51.70503 2011-10-22T05:58:00. 2011-10-22T06:08:01. 2011-10-22T06:18:02.  5.902481\n",
       " 43181 -2.4232147  51.70223 20.249977  69.75002  354.4558    69.0  62.691395 ... 1ES2344+514  356.77 51.70503 2008-11-22T03:20:53. 2008-11-22T03:21:27. 2008-11-22T03:22:01.  4.980234\n",
       " 64192  -3.230098  51.20503 21.027796 68.972206  341.0751  1202.0 1017.38727 ... 1ES2344+514  356.77 51.70503 2012-10-17T05:59:58. 2012-10-17T06:09:59. 2012-10-17T06:20:00. 7.8332186\n",
       " 75183  -4.036807  51.70233 20.111921  69.88808 3.3943107  1505.0   1266.917 ... 1ES2344+514  356.77 51.70503 2014-11-18T02:58:34. 2014-11-18T03:11:06. 2014-11-18T03:23:38.   6.59573\n",
       " 94513 -4.0368075  51.70235 22.211025  67.78898 338.29385  1741.0  1533.2745 ... 1ES2344+514  356.77 51.70503 2019-11-02T04:59:44. 2019-11-02T05:14:44. 2019-11-02T05:29:44.   6.27253\n",
       " 64245  -3.230098  51.20503 20.542107  69.45789 344.29395  1202.0  1023.8006 ... 1ES2344+514  356.77 51.70503 2012-10-20T05:38:50. 2012-10-20T05:48:51. 2012-10-20T05:58:52.   6.85608\n",
       " 84024 -3.2301254  51.20503 20.307274 69.692726 346.23178   901.0  778.82196 ... 1ES2344+514  356.77 51.70503 2016-12-04T02:39:53. 2016-12-04T02:47:23. 2016-12-04T02:54:53.  7.010485\n",
       " 52520 -3.2300844  51.20503  19.54438  70.45562  355.1662  1203.0  1075.5859 ... 1ES2344+514  356.77 51.70503 2010-10-12T05:48:21. 2010-10-12T05:58:22. 2010-10-12T06:08:23. 5.8828816\n",
       " 75607 -3.2299051  52.20503 22.494026 67.505974 339.59552  1201.0  1016.6134 ... 1ES2344+514  356.77 51.70503 2014-12-15T02:15:23. 2014-12-15T02:25:23. 2014-12-15T02:35:24.  6.701083\n",
       " 79140 -2.4232152 51.702198 20.389368 69.610634  350.3617   901.0    769.211 ... 1ES2344+514  356.77 51.70503 2015-11-09T04:15:09. 2015-11-09T04:22:39. 2015-11-09T04:30:09.  6.391738\n",
       " 53573 -3.2300854  51.20503 31.491444 58.508556 318.06912  1203.0  1105.5399 ... 1ES2344+514  356.77 51.70503 2010-12-05T04:21:31. 2010-12-05T04:31:32. 2010-12-05T04:41:33. 5.4045215\n",
       " 79854  -4.036807 51.702335  29.87836  60.12164 320.85352  1441.0  1222.1506 ... 1ES2344+514  356.77 51.70503 2015-12-16T03:13:23. 2015-12-16T03:28:23. 2015-12-16T03:43:23.  7.918147\n",
       " 52996 -4.0368066 51.702312  20.34219 69.657814 351.38123  1203.0  1095.2764 ... 1ES2344+514  356.77 51.70503 2010-11-05T04:20:24. 2010-11-05T04:30:25. 2010-11-05T04:40:26.  5.989218\n",
       " 65240  -3.229919  52.20503 20.734463  69.26553  6.912008  1202.0  1006.0531 ... 1ES2344+514  356.77 51.70503 2012-12-06T01:43:49. 2012-12-06T01:53:50. 2012-12-06T02:03:51. 6.8641815\n",
       " 96952 -3.2301517  51.20503 20.031832  69.96817  348.9601  1140.0  980.52277 ... 1ES2344+514  356.77 51.70503 2020-12-08T02:15:15. 2020-12-08T02:30:15. 2020-12-08T02:45:15. 7.0946007\n",
       "   ...        ...       ...       ...       ...       ...     ...        ... ...         ...     ...      ...                  ...                  ...                  ...       ...\n",
       "100854 -2.4232156 51.702175 31.073229 58.926773 319.68405  1801.0  1554.1825 ... 1ES2344+514  356.77 51.70503 2021-12-08T04:01:45. 2021-12-08T04:16:45. 2021-12-08T04:31:45. 7.3594747\n",
       " 38298 -3.2300649  51.20503 21.700264 68.299736 338.38333  1203.0  1091.3358 ... 1ES2344+514  356.77 51.70503 2007-12-07T02:49:23. 2007-12-07T02:59:25. 2007-12-07T03:09:26.  5.015786\n",
       " 38712 -3.2299528  52.20503 47.177757 42.822243 314.23248  1203.0  1092.4875 ... 1ES2344+514  356.77 51.70503 2008-01-11T03:36:48. 2008-01-11T03:46:49. 2008-01-11T03:56:50.  4.925018\n",
       "100119  -3.229859  52.20503 27.873978 62.126022 34.092186  1801.0  1588.9039 ... 1ES2344+514  356.77 51.70503 2021-10-27T02:51:25. 2021-10-27T03:06:25. 2021-10-27T03:21:25. 7.9672666\n",
       "100945 -4.0368075  51.70236  35.00452  54.99548 316.77036  1801.0  1547.5923 ... 1ES2344+514  356.77 51.70503 2021-12-27T03:06:18. 2021-12-27T03:21:18. 2021-12-27T03:36:18.  7.157009\n",
       "103127 -3.2301633  51.20503 22.380587 67.619415 334.78625   570.0  506.67868 ... 1ES2344+514  356.77 51.70503 2022-09-26T07:38:29. 2022-09-26T07:48:29. 2022-09-26T07:58:29.  6.694904\n",
       " 64015 -4.0368066  51.70232  27.33296 62.667038 324.54196  1202.0   1020.594 ... 1ES2344+514  356.77 51.70503 2012-10-11T07:17:56. 2012-10-11T07:27:57. 2012-10-11T07:37:58. 7.4096465\n",
       " 37934 -3.2300646  51.20503 20.945889  69.05411 342.60602  1204.0  1062.8197 ... 1ES2344+514  356.77 51.70503 2007-11-14T04:09:02. 2007-11-14T04:19:03. 2007-11-14T04:29:05. 4.8620434\n",
       " 53651 -4.0368066 51.702312 30.455027 59.544975 320.32758  1203.0   1105.884 ... 1ES2344+514  356.77 51.70503 2010-12-07T04:00:36. 2010-12-07T04:10:37. 2010-12-07T04:20:38. 5.6114717\n",
       " 78766 -3.2298994  52.20503 21.796774 68.203224 343.47363   901.0    768.677 ... 1ES2344+514  356.77 51.70503 2015-10-16T06:04:53. 2015-10-16T06:12:23. 2015-10-16T06:19:53.  6.615571\n",
       " 96951 -3.2298648  52.20503 20.547916  69.45208 359.19318  1441.0  1219.4933 ... 1ES2344+514  356.77 51.70503 2020-12-08T01:44:38. 2020-12-08T01:59:38. 2020-12-08T02:14:38. 7.2765265\n",
       " 79506 -3.2298987  52.20503  20.71975  69.28025 353.59186   751.0    643.554 ... 1ES2344+514  356.77 51.70503 2015-12-01T02:39:29. 2015-12-01T02:47:00. 2015-12-01T02:54:30. 6.2857275\n",
       " 84295 -2.4232152 51.702194  27.92139  62.07861 325.26166   901.0  856.60156 ... 1ES2344+514  356.77 51.70503 2016-12-29T02:19:49. 2016-12-29T02:27:19. 2016-12-29T02:34:49.  6.706141\n",
       "104073 -3.2301648  51.20503 21.948347  68.05165  336.9801  1801.0   1566.685 ... 1ES2344+514  356.77 51.70503 2022-12-15T02:14:25. 2022-12-15T02:29:25. 2022-12-15T02:44:25. 7.0003686\n",
       " 97602 -3.2301524  51.20503  38.85953  51.14047 314.10303  1801.0  1683.3695 ... 1ES2344+514  356.77 51.70503 2021-01-18T02:08:23. 2021-01-18T02:23:23. 2021-01-18T02:38:23.  8.871712\n",
       " 75110 -2.4232152   51.7022 20.128279  69.87172 355.99487  1801.0  1573.7216 ... 1ES2344+514  356.77 51.70503 2014-11-15T03:29:48. 2014-11-15T03:44:48. 2014-11-15T03:59:48. 7.0195007\n",
       " 37621 -2.4232144 51.702232 33.562443 56.437557   317.666  1804.0  1624.5623 ... 1ES2344+514  356.77 51.70503 2007-11-05T06:31:57. 2007-11-05T06:46:59. 2007-11-05T07:02:01.  5.128206\n",
       " 52579 -2.4232147  51.70222 26.327877 63.672123 326.23788  1203.0  1098.0839 ... 1ES2344+514  356.77 51.70503 2010-10-14T07:07:56. 2010-10-14T07:17:57. 2010-10-14T07:27:58.   6.27156"
      ]
     },
     "execution_count": 26,
     "metadata": {},
     "output_type": "execute_result"
    }
   ],
   "source": [
    "data_store.obs_table[data_store.obs_table[\"OBJECT\"] == \"1ES2344+514\"]"
   ]
  },
  {
   "cell_type": "code",
   "execution_count": 11,
   "id": "420f8415-b70b-42b4-a9e5-5f4a99d48dce",
   "metadata": {},
   "outputs": [
    {
     "data": {
      "text/plain": [
       "0"
      ]
     },
     "execution_count": 11,
     "metadata": {},
     "output_type": "execute_result"
    }
   ],
   "source": [
    "obs_ids = query_datastore(fname, ra, dec, search_cone)\n",
    "# obs_ids = query_datastore(fname, ra, dec, search_cone, tstart, tstop)\n",
    "len(obs_ids)"
   ]
  },
  {
   "cell_type": "code",
   "execution_count": 49,
   "id": "e889f1dc-f2d2-45cc-b175-36dbeb801aed",
   "metadata": {},
   "outputs": [],
   "source": [
    "excl = get_exclusion_regions(ra, dec)"
   ]
  },
  {
   "cell_type": "code",
   "execution_count": 52,
   "id": "93a32ebf-c846-48c4-948b-9631412c4e18",
   "metadata": {},
   "outputs": [],
   "source": [
    "from pathlib import Path\n",
    "\n",
    "# Check package versions\n",
    "import numpy as np\n",
    "import astropy.units as u\n",
    "from astropy.coordinates import Angle, SkyCoord\n",
    "from regions import CircleSkyRegion\n",
    "\n",
    "# %matplotlib inline\n",
    "import matplotlib.pyplot as plt"
   ]
  },
  {
   "cell_type": "code",
   "execution_count": 54,
   "id": "b449710f-b6b1-441e-b5c0-6d55d85e050b",
   "metadata": {},
   "outputs": [],
   "source": [
    "from IPython.display import display\n",
    "from gammapy.data import DataStore\n",
    "from gammapy.datasets import (\n",
    "    Datasets,\n",
    "    FluxPointsDataset,\n",
    "    SpectrumDataset,\n",
    "    SpectrumDatasetOnOff,\n",
    ")\n",
    "from gammapy.estimators import FluxPointsEstimator\n",
    "from gammapy.estimators.utils import resample_energy_edges\n",
    "from gammapy.makers import (\n",
    "    ReflectedRegionsBackgroundMaker,\n",
    "    SafeMaskMaker,\n",
    "    SpectrumDatasetMaker,\n",
    ")\n",
    "from gammapy.maps import MapAxis, RegionGeom, WcsGeom\n",
    "from gammapy.modeling import Fit\n",
    "from gammapy.modeling.models import (\n",
    "    ExpCutoffPowerLawSpectralModel,\n",
    "    PowerLawSpectralModel,\n",
    "    SkyModel,\n",
    "    create_crab_spectral_model,\n",
    ")"
   ]
  },
  {
   "cell_type": "code",
   "execution_count": 55,
   "id": "6c1bee1e-ba1e-49c4-9159-886241635e57",
   "metadata": {},
   "outputs": [],
   "source": [
    "datastore = DataStore.from_dir(fname)\n",
    "# obs_ids = [23523, 23526, 23559, 23592]\n",
    "observations = datastore.get_observations(obs_ids)"
   ]
  },
  {
   "cell_type": "code",
   "execution_count": 56,
   "id": "f8601b39-2be3-4b3a-83ba-890dc48f2386",
   "metadata": {},
   "outputs": [],
   "source": [
    "target_position = SkyCoord(ra=ra, dec=dec, unit=\"deg\", frame=\"icrs\")\n",
    "on_region_radius = Angle(\"0.089 deg\")\n",
    "on_region = CircleSkyRegion(center=target_position, radius=on_region_radius)"
   ]
  },
  {
   "cell_type": "code",
   "execution_count": 67,
   "id": "102ef45a-9ad3-43c0-80b7-ee1d4f8205fd",
   "metadata": {},
   "outputs": [
    {
     "name": "stdout",
     "output_type": "stream",
     "text": [
      "[133.335892, 19.322167, '0.35 deg']\n",
      "0.35 deg\n",
      "[133.480564, 19.967133, '0.35 deg']\n",
      "0.35 deg\n",
      "[134.732213, 21.166281, '0.35 deg']\n",
      "0.35 deg\n"
     ]
    },
    {
     "data": {
      "image/png": "[encoded data removed]",
      "text/plain": [
       "<Figure size 640x480 with 1 Axes>"
      ]
     },
     "metadata": {},
     "output_type": "display_data"
    }
   ],
   "source": [
    "exclusion_region = CircleSkyRegion(\n",
    "    center=SkyCoord(ra, dec, unit=\"deg\", frame=\"icrs\"),\n",
    "    radius=0.4 * u.deg,\n",
    ")\n",
    "\n",
    "regions = [exclusion_region]\n",
    "for exc in excl:\n",
    "    print (exc)\n",
    "    print (exc[2])\n",
    "    regions.append(\n",
    "        CircleSkyRegion(\n",
    "            center=SkyCoord(exc[0], exc[1], unit=\"deg\", frame=\"icrs\"),\n",
    "            radius= u.Quantity(exc[2]),\n",
    "        )\n",
    "    )\n",
    "skydir = target_position\n",
    "geom = WcsGeom.create(\n",
    "    npix=(150, 150), binsz=0.05, skydir=skydir, proj=\"TAN\", frame=\"icrs\"\n",
    ")\n",
    "\n",
    "exclusion_mask = ~geom.region_mask(regions)\n",
    "exclusion_mask.plot()\n",
    "plt.show()"
   ]
  },
  {
   "cell_type": "code",
   "execution_count": 68,
   "id": "5c766267-041d-4378-aa75-d9c1a3c268c8",
   "metadata": {},
   "outputs": [],
   "source": [
    "energy_axis = MapAxis.from_energy_bounds(\n",
    "    0.1, 40, nbin=10, per_decade=True, unit=\"TeV\", name=\"energy\"\n",
    ")\n",
    "energy_axis_true = MapAxis.from_energy_bounds(\n",
    "    0.05, 100, nbin=20, per_decade=True, unit=\"TeV\", name=\"energy_true\"\n",
    ")\n",
    "\n",
    "geom = RegionGeom.create(region=on_region, axes=[energy_axis])\n",
    "dataset_empty = SpectrumDataset.create(geom=geom, energy_axis_true=energy_axis_true)\n",
    "\n",
    "dataset_maker = SpectrumDatasetMaker(\n",
    "    containment_correction=True, selection=[\"counts\", \"exposure\", \"edisp\"]\n",
    ")\n",
    "bkg_maker = ReflectedRegionsBackgroundMaker(exclusion_mask=exclusion_mask)\n",
    "safe_mask_masker = SafeMaskMaker(methods=[\"aeff-max\"], aeff_percent=10)"
   ]
  },
  {
   "cell_type": "code",
   "execution_count": 69,
   "id": "2660d50d-e877-43f2-9f64-d6c57a93305f",
   "metadata": {
    "scrolled": true
   },
   "outputs": [
    {
     "name": "stdout",
     "output_type": "stream",
     "text": [
      "Datasets\n",
      "--------\n",
      "\n",
      "Dataset 0: \n",
      "\n",
      "  Type       : SpectrumDatasetOnOff\n",
      "  Name       : 84492\n",
      "  Instrument : VERITAS\n",
      "  Models     : \n",
      "\n",
      "Dataset 1: \n",
      "\n",
      "  Type       : SpectrumDatasetOnOff\n",
      "  Name       : 84715\n",
      "  Instrument : VERITAS\n",
      "  Models     : \n",
      "\n",
      "Dataset 2: \n",
      "\n",
      "  Type       : SpectrumDatasetOnOff\n",
      "  Name       : 85038\n",
      "  Instrument : VERITAS\n",
      "  Models     : \n",
      "\n",
      "Dataset 3: \n",
      "\n",
      "  Type       : SpectrumDatasetOnOff\n",
      "  Name       : 84493\n",
      "  Instrument : VERITAS\n",
      "  Models     : \n",
      "\n",
      "Dataset 4: \n",
      "\n",
      "  Type       : SpectrumDatasetOnOff\n",
      "  Name       : 84971\n",
      "  Instrument : VERITAS\n",
      "  Models     : \n",
      "\n",
      "Dataset 5: \n",
      "\n",
      "  Type       : SpectrumDatasetOnOff\n",
      "  Name       : 85035\n",
      "  Instrument : VERITAS\n",
      "  Models     : \n",
      "\n",
      "Dataset 6: \n",
      "\n",
      "  Type       : SpectrumDatasetOnOff\n",
      "  Name       : 84714\n",
      "  Instrument : VERITAS\n",
      "  Models     : \n",
      "\n",
      "Dataset 7: \n",
      "\n",
      "  Type       : SpectrumDatasetOnOff\n",
      "  Name       : 84838\n",
      "  Instrument : VERITAS\n",
      "  Models     : \n",
      "\n",
      "Dataset 8: \n",
      "\n",
      "  Type       : SpectrumDatasetOnOff\n",
      "  Name       : 84964\n",
      "  Instrument : VERITAS\n",
      "  Models     : \n",
      "\n",
      "Dataset 9: \n",
      "\n",
      "  Type       : SpectrumDatasetOnOff\n",
      "  Name       : 84489\n",
      "  Instrument : VERITAS\n",
      "  Models     : \n",
      "\n",
      "Dataset 10: \n",
      "\n",
      "  Type       : SpectrumDatasetOnOff\n",
      "  Name       : 84877\n",
      "  Instrument : VERITAS\n",
      "  Models     : \n",
      "\n",
      "Dataset 11: \n",
      "\n",
      "  Type       : SpectrumDatasetOnOff\n",
      "  Name       : 84716\n",
      "  Instrument : VERITAS\n",
      "  Models     : \n",
      "\n",
      "Dataset 12: \n",
      "\n",
      "  Type       : SpectrumDatasetOnOff\n",
      "  Name       : 84694\n",
      "  Instrument : VERITAS\n",
      "  Models     : \n",
      "\n",
      "Dataset 13: \n",
      "\n",
      "  Type       : SpectrumDatasetOnOff\n",
      "  Name       : 84691\n",
      "  Instrument : VERITAS\n",
      "  Models     : \n",
      "\n",
      "Dataset 14: \n",
      "\n",
      "  Type       : SpectrumDatasetOnOff\n",
      "  Name       : 84723\n",
      "  Instrument : VERITAS\n",
      "  Models     : \n",
      "\n",
      "Dataset 15: \n",
      "\n",
      "  Type       : SpectrumDatasetOnOff\n",
      "  Name       : 84962\n",
      "  Instrument : VERITAS\n",
      "  Models     : \n",
      "\n",
      "Dataset 16: \n",
      "\n",
      "  Type       : SpectrumDatasetOnOff\n",
      "  Name       : 84872\n",
      "  Instrument : VERITAS\n",
      "  Models     : \n",
      "\n",
      "Dataset 17: \n",
      "\n",
      "  Type       : SpectrumDatasetOnOff\n",
      "  Name       : 85005\n",
      "  Instrument : VERITAS\n",
      "  Models     : \n",
      "\n",
      "Dataset 18: \n",
      "\n",
      "  Type       : SpectrumDatasetOnOff\n",
      "  Name       : 84720\n",
      "  Instrument : VERITAS\n",
      "  Models     : \n",
      "\n",
      "Dataset 19: \n",
      "\n",
      "  Type       : SpectrumDatasetOnOff\n",
      "  Name       : 84721\n",
      "  Instrument : VERITAS\n",
      "  Models     : \n",
      "\n",
      "Dataset 20: \n",
      "\n",
      "  Type       : SpectrumDatasetOnOff\n",
      "  Name       : 85039\n",
      "  Instrument : VERITAS\n",
      "  Models     : \n",
      "\n",
      "Dataset 21: \n",
      "\n",
      "  Type       : SpectrumDatasetOnOff\n",
      "  Name       : 84470\n",
      "  Instrument : VERITAS\n",
      "  Models     : \n",
      "\n",
      "Dataset 22: \n",
      "\n",
      "  Type       : SpectrumDatasetOnOff\n",
      "  Name       : 84689\n",
      "  Instrument : VERITAS\n",
      "  Models     : \n",
      "\n",
      "Dataset 23: \n",
      "\n",
      "  Type       : SpectrumDatasetOnOff\n",
      "  Name       : 84713\n",
      "  Instrument : VERITAS\n",
      "  Models     : \n",
      "\n",
      "Dataset 24: \n",
      "\n",
      "  Type       : SpectrumDatasetOnOff\n",
      "  Name       : 84873\n",
      "  Instrument : VERITAS\n",
      "  Models     : \n",
      "\n",
      "Dataset 25: \n",
      "\n",
      "  Type       : SpectrumDatasetOnOff\n",
      "  Name       : 84696\n",
      "  Instrument : VERITAS\n",
      "  Models     : \n",
      "\n",
      "Dataset 26: \n",
      "\n",
      "  Type       : SpectrumDatasetOnOff\n",
      "  Name       : 84490\n",
      "  Instrument : VERITAS\n",
      "  Models     : \n",
      "\n",
      "Dataset 27: \n",
      "\n",
      "  Type       : SpectrumDatasetOnOff\n",
      "  Name       : 84875\n",
      "  Instrument : VERITAS\n",
      "  Models     : \n",
      "\n",
      "Dataset 28: \n",
      "\n",
      "  Type       : SpectrumDatasetOnOff\n",
      "  Name       : 84491\n",
      "  Instrument : VERITAS\n",
      "  Models     : \n",
      "\n",
      "Dataset 29: \n",
      "\n",
      "  Type       : SpectrumDatasetOnOff\n",
      "  Name       : 84963\n",
      "  Instrument : VERITAS\n",
      "  Models     : \n",
      "\n",
      "Dataset 30: \n",
      "\n",
      "  Type       : SpectrumDatasetOnOff\n",
      "  Name       : 84690\n",
      "  Instrument : VERITAS\n",
      "  Models     : \n",
      "\n",
      "Dataset 31: \n",
      "\n",
      "  Type       : SpectrumDatasetOnOff\n",
      "  Name       : 85001\n",
      "  Instrument : VERITAS\n",
      "  Models     : \n",
      "\n",
      "Dataset 32: \n",
      "\n",
      "  Type       : SpectrumDatasetOnOff\n",
      "  Name       : 84874\n",
      "  Instrument : VERITAS\n",
      "  Models     : \n",
      "\n",
      "Dataset 33: \n",
      "\n",
      "  Type       : SpectrumDatasetOnOff\n",
      "  Name       : 84836\n",
      "  Instrument : VERITAS\n",
      "  Models     : \n",
      "\n",
      "Dataset 34: \n",
      "\n",
      "  Type       : SpectrumDatasetOnOff\n",
      "  Name       : 84695\n",
      "  Instrument : VERITAS\n",
      "  Models     : \n",
      "\n",
      "Dataset 35: \n",
      "\n",
      "  Type       : SpectrumDatasetOnOff\n",
      "  Name       : 84968\n",
      "  Instrument : VERITAS\n",
      "  Models     : \n",
      "\n",
      "Dataset 36: \n",
      "\n",
      "  Type       : SpectrumDatasetOnOff\n",
      "  Name       : 85007\n",
      "  Instrument : VERITAS\n",
      "  Models     : \n",
      "\n",
      "Dataset 37: \n",
      "\n",
      "  Type       : SpectrumDatasetOnOff\n",
      "  Name       : 84719\n",
      "  Instrument : VERITAS\n",
      "  Models     : \n",
      "\n",
      "Dataset 38: \n",
      "\n",
      "  Type       : SpectrumDatasetOnOff\n",
      "  Name       : 84718\n",
      "  Instrument : VERITAS\n",
      "  Models     : \n",
      "\n",
      "Dataset 39: \n",
      "\n",
      "  Type       : SpectrumDatasetOnOff\n",
      "  Name       : 84697\n",
      "  Instrument : VERITAS\n",
      "  Models     : \n",
      "\n",
      "Dataset 40: \n",
      "\n",
      "  Type       : SpectrumDatasetOnOff\n",
      "  Name       : 84494\n",
      "  Instrument : VERITAS\n",
      "  Models     : \n",
      "\n",
      "Dataset 41: \n",
      "\n",
      "  Type       : SpectrumDatasetOnOff\n",
      "  Name       : 84692\n",
      "  Instrument : VERITAS\n",
      "  Models     : \n",
      "\n",
      "Dataset 42: \n",
      "\n",
      "  Type       : SpectrumDatasetOnOff\n",
      "  Name       : 84717\n",
      "  Instrument : VERITAS\n",
      "  Models     : \n",
      "\n",
      "Dataset 43: \n",
      "\n",
      "  Type       : SpectrumDatasetOnOff\n",
      "  Name       : 84876\n",
      "  Instrument : VERITAS\n",
      "  Models     : \n",
      "\n",
      "Dataset 44: \n",
      "\n",
      "  Type       : SpectrumDatasetOnOff\n",
      "  Name       : 85036\n",
      "  Instrument : VERITAS\n",
      "  Models     : \n",
      "\n",
      "Dataset 45: \n",
      "\n",
      "  Type       : SpectrumDatasetOnOff\n",
      "  Name       : 84965\n",
      "  Instrument : VERITAS\n",
      "  Models     : \n",
      "\n",
      "Dataset 46: \n",
      "\n",
      "  Type       : SpectrumDatasetOnOff\n",
      "  Name       : 84961\n",
      "  Instrument : VERITAS\n",
      "  Models     : \n",
      "\n",
      "Dataset 47: \n",
      "\n",
      "  Type       : SpectrumDatasetOnOff\n",
      "  Name       : 84467\n",
      "  Instrument : VERITAS\n",
      "  Models     : \n",
      "\n",
      "Dataset 48: \n",
      "\n",
      "  Type       : SpectrumDatasetOnOff\n",
      "  Name       : 85004\n",
      "  Instrument : VERITAS\n",
      "  Models     : \n",
      "\n",
      "Dataset 49: \n",
      "\n",
      "  Type       : SpectrumDatasetOnOff\n",
      "  Name       : 84837\n",
      "  Instrument : VERITAS\n",
      "  Models     : \n",
      "\n",
      "Dataset 50: \n",
      "\n",
      "  Type       : SpectrumDatasetOnOff\n",
      "  Name       : 85006\n",
      "  Instrument : VERITAS\n",
      "  Models     : \n",
      "\n",
      "Dataset 51: \n",
      "\n",
      "  Type       : SpectrumDatasetOnOff\n",
      "  Name       : 84969\n",
      "  Instrument : VERITAS\n",
      "  Models     : \n",
      "\n",
      "Dataset 52: \n",
      "\n",
      "  Type       : SpectrumDatasetOnOff\n",
      "  Name       : 85037\n",
      "  Instrument : VERITAS\n",
      "  Models     : \n",
      "\n",
      "Dataset 53: \n",
      "\n",
      "  Type       : SpectrumDatasetOnOff\n",
      "  Name       : 84835\n",
      "  Instrument : VERITAS\n",
      "  Models     : \n",
      "\n",
      "\n"
     ]
    }
   ],
   "source": [
    "datasets = Datasets()\n",
    "\n",
    "for obs_id, observation in zip(obs_ids, observations):\n",
    "    dataset = dataset_maker.run(dataset_empty.copy(name=str(obs_id)), observation)\n",
    "    dataset_on_off = bkg_maker.run(dataset, observation)\n",
    "    dataset_on_off = safe_mask_masker.run(dataset_on_off, observation)\n",
    "    datasets.append(dataset_on_off)\n",
    "\n",
    "# print(datasets)"
   ]
  },
  {
   "cell_type": "code",
   "execution_count": 71,
   "id": "ffb7e66b-81c6-4963-9662-18b13f50ade9",
   "metadata": {},
   "outputs": [
    {
     "name": "stderr",
     "output_type": "stream",
     "text": [
      "/home/obriens/mambaforge/envs/agn_pipe/lib/python3.11/site-packages/regions/shapes/circle.py:161: UserWarning: Setting the 'color' property will override the edgecolor or facecolor properties.\n",
      "  return Circle(xy=xy, radius=radius, **mpl_kwargs)\n"
     ]
    },
    {
     "data": {
      "image/png": "[encoded data removed]",
      "text/plain": [
       "<Figure size 640x480 with 1 Axes>"
      ]
     },
     "metadata": {},
     "output_type": "display_data"
    }
   ],
   "source": [
    "from gammapy.visualization import plot_spectrum_datasets_off_regions\n",
    "plt.figure()\n",
    "ax = exclusion_mask.plot()\n",
    "on_region.to_pixel(ax.wcs).plot(ax=ax, edgecolor=\"k\")\n",
    "plot_spectrum_datasets_off_regions(ax=ax, datasets=datasets)\n",
    "plt.show()"
   ]
  },
  {
   "cell_type": "code",
   "execution_count": 72,
   "id": "a00b175f-0dc2-4e73-940d-f834f007c987",
   "metadata": {},
   "outputs": [
    {
     "data": {
      "text/html": [
       "<div><i>Table length=54</i>\n",
       "<table id=\"table136072479117072\" class=\"table-striped table-bordered table-condensed\">\n",
       "<thead><tr><th>name</th><th>counts</th><th>excess</th><th>sqrt_ts</th><th>background</th><th>npred</th><th>npred_background</th><th>npred_signal</th><th>exposure_min</th><th>exposure_max</th><th>livetime</th><th>ontime</th><th>counts_rate</th><th>background_rate</th><th>excess_rate</th><th>n_bins</th><th>n_fit_bins</th><th>stat_type</th><th>stat_sum</th><th>counts_off</th><th>acceptance</th><th>acceptance_off</th><th>alpha</th></tr></thead>\n",
       "<thead><tr><th></th><th></th><th></th><th></th><th></th><th></th><th></th><th></th><th>m2 s</th><th>m2 s</th><th>s</th><th>s</th><th>1 / s</th><th>1 / s</th><th>1 / s</th><th></th><th></th><th></th><th></th><th></th><th></th><th></th><th></th></tr></thead>\n",
       "<thead><tr><th>str7</th><th>int64</th><th>float64</th><th>float64</th><th>float64</th><th>float64</th><th>float64</th><th>float64</th><th>float64</th><th>float64</th><th>float64</th><th>float64</th><th>float64</th><th>float64</th><th>float64</th><th>int64</th><th>int64</th><th>str5</th><th>float64</th><th>int64</th><th>float64</th><th>float64</th><th>float64</th></tr></thead>\n",
       "<tr><td>stacked</td><td>4</td><td>-0.7500004768371582</td><td>-0.34066360605212953</td><td>4.750000476837158</td><td>4.6923078213923075</td><td>4.6923078213923075</td><td>nan</td><td>1322975.875</td><td>189474272.0</td><td>1509.718121617501</td><td>1801.0000000000002</td><td>0.002649501216634022</td><td>0.003146283010598059</td><td>-0.0004967817939640368</td><td>27</td><td>24</td><td>wstat</td><td>3.9432778742404646</td><td>57</td><td>24.0</td><td>287.9999694824219</td><td>0.0833333432674408</td></tr>\n",
       "<tr><td>stacked</td><td>12</td><td>1.8500003814697266</td><td>0.5387795565090371</td><td>10.149999618530273</td><td>10.308029059579251</td><td>10.308029059579251</td><td>nan</td><td>1793330.5</td><td>396770304.0</td><td>3058.79640932199</td><td>3602.0000000000005</td><td>0.003923111706104006</td><td>0.0033182985267006097</td><td>0.0006048131794033968</td><td>27</td><td>24</td><td>wstat</td><td>12.822137441965236</td><td>111</td><td>24.0</td><td>262.46307373046875</td><td>0.09144143760204315</td></tr>\n",
       "<tr><td>stacked</td><td>16</td><td>2.683333396911621</td><td>0.6765490603654949</td><td>13.316666603088379</td><td>13.563131950969202</td><td>13.563131950969202</td><td>nan</td><td>2271413.0</td><td>557305408.0</td><td>4103.02079060988</td><td>4803.000000000003</td><td>0.0038995659092484715</td><td>0.003245576194389443</td><td>0.0006539897148590284</td><td>27</td><td>24</td><td>wstat</td><td>12.253636687599741</td><td>130</td><td>24.0</td><td>234.29287719726562</td><td>0.1024358943104744</td></tr>\n",
       "<tr><td>stacked</td><td>21</td><td>2.083332061767578</td><td>0.4475987379499982</td><td>18.916667938232422</td><td>19.108340973368787</td><td>19.108340973368787</td><td>nan</td><td>3582557.0</td><td>751004160.0</td><td>5616.762640750675</td><td>6604.000000000004</td><td>0.0037388085171413564</td><td>0.003367895200161819</td><td>0.0003709133169795373</td><td>27</td><td>24</td><td>wstat</td><td>11.90060186385897</td><td>186</td><td>24.0</td><td>235.98236083984375</td><td>0.10170251876115799</td></tr>\n",
       "<tr><td>stacked</td><td>26</td><td>0.5833320617675781</td><td>0.11005335090277497</td><td>25.416667938232422</td><td>25.468461376179892</td><td>25.468461376179892</td><td>nan</td><td>4118994.25</td><td>996926528.0</td><td>7158.694854440579</td><td>8405.000000000004</td><td>0.003631946958022949</td><td>0.0035504611462054874</td><td>8.148581181746195e-05</td><td>27</td><td>24</td><td>wstat</td><td>11.260129486489278</td><td>264</td><td>24.0</td><td>249.2852325439453</td><td>0.09627525508403778</td></tr>\n",
       "<tr><td>stacked</td><td>35</td><td>7.333333969116211</td><td>1.2744555294670277</td><td>27.66666603088379</td><td>28.297107811589324</td><td>28.297107811589324</td><td>nan</td><td>5561240.5</td><td>1154457984.0</td><td>8415.198188835628</td><td>9864.000000000002</td><td>0.004159141497871578</td><td>0.00328770225133722</td><td>0.0008714392465343577</td><td>27</td><td>24</td><td>wstat</td><td>13.224305103698342</td><td>291</td><td>24.0</td><td>252.43374633789062</td><td>0.09507445245981216</td></tr>\n",
       "<tr><td>stacked</td><td>42</td><td>8.416667938232422</td><td>1.3321341687629302</td><td>33.58333206176758</td><td>34.273698292728334</td><td>34.273698292728334</td><td>nan</td><td>5912447.0</td><td>1381302912.0</td><td>9959.498820436364</td><td>11665.000000000007</td><td>0.004217079670095269</td><td>0.0033719901640890163</td><td>0.0008450895060062526</td><td>27</td><td>24</td><td>wstat</td><td>13.167198318180386</td><td>362</td><td>24.0</td><td>258.69976806640625</td><td>0.09277163445949554</td></tr>\n",
       "<tr><td>stacked</td><td>46</td><td>10.51666259765625</td><td>1.607643636280654</td><td>35.48333740234375</td><td>36.34362860575836</td><td>36.34362860575836</td><td>nan</td><td>6178205.0</td><td>1547499392.0</td><td>11262.825408862058</td><td>13169.000000000004</td><td>0.004084232715159137</td><td>0.003150482770906134</td><td>0.0009337499442530028</td><td>27</td><td>24</td><td>wstat</td><td>14.372010111213246</td><td>381</td><td>24.0</td><td>257.69842529296875</td><td>0.09313211590051651</td></tr>\n",
       "<tr><td>stacked</td><td>53</td><td>11.683334350585938</td><td>1.659816585811076</td><td>41.31666564941406</td><td>42.2722135376277</td><td>42.2722135376277</td><td>nan</td><td>7247121.0</td><td>1748192512.0</td><td>12807.831830871988</td><td>14970.000000000005</td><td>0.004138093058986677</td><td>0.003225890704609691</td><td>0.0009122023543769865</td><td>27</td><td>24</td><td>wstat</td><td>13.726602061185623</td><td>451</td><td>24.0</td><td>261.97662353515625</td><td>0.09161122888326645</td></tr>\n",
       "<tr><td>stacked</td><td>58</td><td>10.88333511352539</td><td>1.458904118490616</td><td>47.11666488647461</td><td>48.01999066260942</td><td>48.01999066260942</td><td>nan</td><td>7351287.5</td><td>1973854848.0</td><td>14327.356806419091</td><td>16771.000000000007</td><td>0.004048199593522668</td><td>0.003288580407613281</td><td>0.0007596191859093874</td><td>27</td><td>24</td><td>wstat</td><td>13.452327579696432</td><td>509</td><td>24.0</td><td>259.2713317871094</td><td>0.09256712347269058</td></tr>\n",
       "<tr><td>stacked</td><td>70</td><td>15.883331298828125</td><td>1.9620002746619207</td><td>54.116668701171875</td><td>55.506538620306515</td><td>55.506538620306515</td><td>nan</td><td>8275532.0</td><td>2203280640.0</td><td>15870.00148200006</td><td>18572.000000000007</td><td>0.004410837647330708</td><td>0.0034099977093607478</td><td>0.0010008399379699607</td><td>27</td><td>24</td><td>wstat</td><td>19.934210049855118</td><td>551</td><td>24.0</td><td>244.36093139648438</td><td>0.09821537137031555</td></tr>\n",
       "<tr><td>stacked</td><td>78</td><td>18.799999237060547</td><td>2.213839485309653</td><td>59.20000076293945</td><td>60.841906767147236</td><td>60.841906767147236</td><td>nan</td><td>9155667.0</td><td>2398604032.0</td><td>17407.62427733557</td><td>20373.000000000004</td><td>0.004480795239908451</td><td>0.003400808738732766</td><td>0.0010799865011756845</td><td>27</td><td>24</td><td>wstat</td><td>21.856842717262253</td><td>612</td><td>24.0</td><td>248.1081085205078</td><td>0.09673202782869339</td></tr>\n",
       "<tr><td>stacked</td><td>85</td><td>22.299999237060547</td><td>2.5341626355353277</td><td>62.70000076293945</td><td>64.6801461507482</td><td>64.6801461507482</td><td>nan</td><td>10581903.0</td><td>2599181824.0</td><td>18941.357184287972</td><td>22174.000000000004</td><td>0.004487534825144857</td><td>0.0033102169054152926</td><td>0.001177317919729564</td><td>27</td><td>24</td><td>wstat</td><td>23.54944111004543</td><td>633</td><td>24.0</td><td>242.29666137695312</td><td>0.09905213117599487</td></tr>\n",
       "<tr><td>stacked</td><td>90</td><td>22.100006103515625</td><td>2.4242127723165128</td><td>67.89999389648438</td><td>69.85336841862096</td><td>69.85336841862096</td><td>nan</td><td>11797539.0</td><td>2795038720.0</td><td>20480.918334093316</td><td>23975.000000000004</td><td>0.004394334205716869</td><td>0.003315280730525421</td><td>0.0010790534751914476</td><td>27</td><td>24</td><td>wstat</td><td>23.25490025965229</td><td>685</td><td>24.0</td><td>242.1207733154297</td><td>0.09912408143281937</td></tr>\n",
       "<tr><td>stacked</td><td>93</td><td>23.26666259765625</td><td>2.5159283775400256</td><td>69.73333740234375</td><td>71.78285223679423</td><td>71.78285223679423</td><td>nan</td><td>11846380.0</td><td>2961887744.0</td><td>21398.41946334703</td><td>25039.000000000004</td><td>0.004346115382928073</td><td>0.0032588078536262334</td><td>0.0010873075293018394</td><td>27</td><td>24</td><td>wstat</td><td>23.871005971738356</td><td>707</td><td>24.0</td><td>243.3269500732422</td><td>0.09863272309303284</td></tr>\n",
       "<tr><td>stacked</td><td>98</td><td>24.933334350585938</td><td>2.62848246098064</td><td>73.06666564941406</td><td>75.31403189605068</td><td>75.31403189605068</td><td>nan</td><td>11973612.0</td><td>3100917504.0</td><td>22397.50571549421</td><td>26195.000000000007</td><td>0.004375487219195362</td><td>0.003262267976512572</td><td>0.0011132192426827905</td><td>27</td><td>24</td><td>wstat</td><td>25.417223387374058</td><td>727</td><td>24.0</td><td>238.79562377929688</td><td>0.10050435364246368</td></tr>\n",
       "<tr><td>stacked</td><td>104</td><td>26.599998474121094</td><td>2.7251192982577424</td><td>77.4000015258789</td><td>79.7751737091068</td><td>79.7751737091068</td><td>nan</td><td>12256737.0</td><td>3313808128.0</td><td>23950.689578332935</td><td>27996.00000000001</td><td>0.004342254934241389</td><td>0.003231639793615757</td><td>0.0011106151406256321</td><td>27</td><td>24</td><td>wstat</td><td>26.660923663406642</td><td>779</td><td>24.0</td><td>241.5503692626953</td><td>0.09935815632343292</td></tr>\n",
       "<tr><td>...</td><td>...</td><td>...</td><td>...</td><td>...</td><td>...</td><td>...</td><td>...</td><td>...</td><td>...</td><td>...</td><td>...</td><td>...</td><td>...</td><td>...</td><td>...</td><td>...</td><td>...</td><td>...</td><td>...</td><td>...</td><td>...</td><td>...</td></tr>\n",
       "<tr><td>stacked</td><td>235</td><td>71.26666259765625</td><td>4.939074265727005</td><td>163.73333740234375</td><td>170.45906217305938</td><td>170.45906217305938</td><td>nan</td><td>25016374.0</td><td>7261277696.0</td><td>52013.69239911931</td><td>60634.0</td><td>0.004518041099577445</td><td>0.003147889139382</td><td>0.001370151960195445</td><td>27</td><td>24</td><td>wstat</td><td>50.08639952158326</td><td>1561</td><td>24.0</td><td>228.81106567382812</td><td>0.10489003360271454</td></tr>\n",
       "<tr><td>stacked</td><td>237</td><td>70.46665954589844</td><td>4.851091765063553</td><td>166.53334045410156</td><td>173.17732929032124</td><td>173.17732929032124</td><td>nan</td><td>25650972.0</td><td>7406586368.0</td><td>53083.45582113439</td><td>61874.0</td><td>0.0044646678769101915</td><td>0.003137198546666564</td><td>0.001327469330243627</td><td>27</td><td>24</td><td>wstat</td><td>48.7454247614555</td><td>1589</td><td>24.0</td><td>228.99917602539062</td><td>0.10480386763811111</td></tr>\n",
       "<tr><td>stacked</td><td>241</td><td>70.79998779296875</td><td>4.827666796784683</td><td>170.20001220703125</td><td>176.83691959575214</td><td>176.83691959575214</td><td>nan</td><td>26478698.0</td><td>7599611904.0</td><td>54577.5861771849</td><td>63615.00000000001</td><td>0.0044157321142345675</td><td>0.0031184965134676487</td><td>0.001297235600766919</td><td>27</td><td>24</td><td>wstat</td><td>48.47451725321173</td><td>1633</td><td>24.0</td><td>230.27024841308594</td><td>0.10422535985708237</td></tr>\n",
       "<tr><td>stacked</td><td>248</td><td>72.38331604003906</td><td>4.863573786509955</td><td>175.61668395996094</td><td>182.35441974561178</td><td>182.35441974561178</td><td>nan</td><td>26729558.0</td><td>7866341376.0</td><td>56120.74065159896</td><td>65416.00000000001</td><td>0.0044190436034976695</td><td>0.003129265257744908</td><td>0.0012897783457527616</td><td>27</td><td>24</td><td>wstat</td><td>50.50041425283971</td><td>1698</td><td>24.0</td><td>232.05084228515625</td><td>0.10342560708522797</td></tr>\n",
       "<tr><td>stacked</td><td>253</td><td>70.96665954589844</td><td>4.700939244812208</td><td>182.03334045410156</td><td>188.58919625736456</td><td>188.58919625736456</td><td>nan</td><td>28033108.0</td><td>8067852800.0</td><td>57635.39409836473</td><td>67217.0</td><td>0.004389663746693775</td><td>0.003158360297553102</td><td>0.0012313034491406721</td><td>27</td><td>24</td><td>wstat</td><td>47.855826425420574</td><td>1775</td><td>24.0</td><td>234.0230712890625</td><td>0.10255399346351624</td></tr>\n",
       "<tr><td>stacked</td><td>262</td><td>75.79997253417969</td><td>4.953434793139932</td><td>186.2000274658203</td><td>193.1723881342309</td><td>193.1723881342309</td><td>nan</td><td>29254454.0</td><td>8227714560.0</td><td>58914.090842813384</td><td>68717.0</td><td>0.00444715341019236</td><td>0.003160534683673793</td><td>0.0012866187265185665</td><td>27</td><td>24</td><td>wstat</td><td>50.16164078642463</td><td>1825</td><td>24.0</td><td>235.2309112548828</td><td>0.10202740877866745</td></tr>\n",
       "<tr><td>stacked</td><td>268</td><td>76.46664428710938</td><td>4.929814746181355</td><td>191.53335571289062</td><td>198.64150092120533</td><td>198.64150092120533</td><td>nan</td><td>30013800.0</td><td>8422852096.0</td><td>60444.146898232895</td><td>70518.00000000001</td><td>0.004433845355634179</td><td>0.0031687659689426466</td><td>0.0012650793866915326</td><td>27</td><td>24</td><td>wstat</td><td>49.05927073174499</td><td>1857</td><td>24.0</td><td>232.69053649902344</td><td>0.10314127802848816</td></tr>\n",
       "<tr><td>stacked</td><td>275</td><td>77.46664428710938</td><td>4.924770391140337</td><td>197.53335571289062</td><td>204.69386539561864</td><td>204.69386539561864</td><td>nan</td><td>31300096.0</td><td>8627645440.0</td><td>61974.59162109782</td><td>72319.00000000001</td><td>0.004437302333209447</td><td>0.003187328073423641</td><td>0.0012499742597858062</td><td>27</td><td>24</td><td>wstat</td><td>50.84580877334008</td><td>1929</td><td>24.0</td><td>234.37054443359375</td><td>0.10240194946527481</td></tr>\n",
       "<tr><td>stacked</td><td>285</td><td>84.46664428710938</td><td>5.307077953513409</td><td>200.53335571289062</td><td>208.3288941940654</td><td>208.3288941940654</td><td>nan</td><td>32798388.0</td><td>8826327040.0</td><td>63514.28821759608</td><td>74120.00000000001</td><td>0.004487179310324748</td><td>0.003157295174683775</td><td>0.0013298841356409728</td><td>27</td><td>24</td><td>wstat</td><td>54.13760848782644</td><td>1959</td><td>24.0</td><td>234.4547576904297</td><td>0.1023651659488678</td></tr>\n",
       "<tr><td>stacked</td><td>286</td><td>83.76663208007812</td><td>5.24629967274216</td><td>202.23336791992188</td><td>209.96422503017442</td><td>209.96422503017442</td><td>nan</td><td>33298582.0</td><td>8911862784.0</td><td>64190.27789395311</td><td>74904.0</td><td>0.0044555033781360515</td><td>0.0031505295592274226</td><td>0.0013049738189086287</td><td>27</td><td>24</td><td>wstat</td><td>54.36960686620753</td><td>1976</td><td>24.0</td><td>234.50137329101562</td><td>0.1023448184132576</td></tr>\n",
       "<tr><td>stacked</td><td>292</td><td>85.3499755859375</td><td>5.290274050620189</td><td>206.6500244140625</td><td>214.49443762305634</td><td>214.49443762305634</td><td>nan</td><td>33436744.0</td><td>9139666944.0</td><td>65732.44636487954</td><td>76705.0</td><td>0.004442250610590601</td><td>0.0031438054696299026</td><td>0.0012984451409606976</td><td>27</td><td>24</td><td>wstat</td><td>53.20748833347936</td><td>2029</td><td>24.0</td><td>235.644775390625</td><td>0.10184821486473083</td></tr>\n",
       "<tr><td>stacked</td><td>296</td><td>88.18330383300781</td><td>5.440998106732777</td><td>207.8166961669922</td><td>215.94601848906194</td><td>215.94601848906194</td><td>nan</td><td>33724708.0</td><td>9302306816.0</td><td>67353.02249386092</td><td>78506.00000000001</td><td>0.004394754519397845</td><td>0.003085484340156141</td><td>0.0013092701792417041</td><td>27</td><td>24</td><td>wstat</td><td>54.27814737975008</td><td>2036</td><td>24.0</td><td>235.1302947998047</td><td>0.10207106918096542</td></tr>\n",
       "<tr><td>stacked</td><td>301</td><td>89.68331909179688</td><td>5.48853207855882</td><td>211.31668090820312</td><td>219.55058007313158</td><td>219.55058007313158</td><td>nan</td><td>34892792.0</td><td>9503428608.0</td><td>68899.7433008255</td><td>80307.0</td><td>0.00436866649394895</td><td>0.003067016955136773</td><td>0.0013016495388121767</td><td>27</td><td>24</td><td>wstat</td><td>54.610298574144664</td><td>2078</td><td>24.0</td><td>236.00596618652344</td><td>0.10169234126806259</td></tr>\n",
       "<tr><td>stacked</td><td>309</td><td>93.43331909179688</td><td>5.655291822297839</td><td>215.56668090820312</td><td>224.1111775134587</td><td>224.1111775134587</td><td>nan</td><td>35501072.0</td><td>9712595968.0</td><td>70454.90911571559</td><td>82108.0</td><td>0.004385783813765148</td><td>0.0030596403233471643</td><td>0.0013261434904179835</td><td>27</td><td>24</td><td>wstat</td><td>55.40684171807486</td><td>2129</td><td>24.0</td><td>237.03106689453125</td><td>0.10125254839658737</td></tr>\n",
       "<tr><td>stacked</td><td>319</td><td>98.68330383300781</td><td>5.897489602924468</td><td>220.3166961669922</td><td>229.30639454179055</td><td>229.30639454179055</td><td>nan</td><td>36207300.0</td><td>9949425664.0</td><td>72006.3274269443</td><td>83909.0</td><td>0.004430166228428312</td><td>0.0030596852254479944</td><td>0.001370481002980318</td><td>27</td><td>24</td><td>wstat</td><td>57.88782640603118</td><td>2186</td><td>24.0</td><td>238.1299285888672</td><td>0.10078531503677368</td></tr>\n",
       "<tr><td>stacked</td><td>322</td><td>98.48330688476562</td><td>5.8493912810237205</td><td>223.51669311523438</td><td>232.48483222604818</td><td>232.48483222604818</td><td>nan</td><td>36988096.0</td><td>10088259584.0</td><td>73043.09435114528</td><td>85115.00000000001</td><td>0.0044083565032448715</td><td>0.0030600660486904707</td><td>0.0013482904545544004</td><td>27</td><td>24</td><td>wstat</td><td>56.55105294037804</td><td>2218</td><td>24.0</td><td>238.15670776367188</td><td>0.10077398270368576</td></tr>\n",
       "<tr><td>stacked</td><td>333</td><td>103.316650390625</td><td>6.047310252342386</td><td>229.683349609375</td><td>239.04955791857236</td><td>239.04955791857236</td><td>nan</td><td>38715048.0</td><td>10372724736.0</td><td>75110.56146588214</td><td>87516.00000000001</td><td>0.004433464395699669</td><td>0.00305793679512974</td><td>0.0013755276005699285</td><td>27</td><td>24</td><td>wstat</td><td>57.774835572214414</td><td>2292</td><td>24.0</td><td>239.4949493408203</td><td>0.10021088272333145</td></tr>\n",
       "<tr><td>stacked</td><td>338</td><td>102.89997863769531</td><td>5.964875231204717</td><td>235.10000610351562</td><td>244.39965367910253</td><td>244.39965367910253</td><td>nan</td><td>38894776.0</td><td>10607193088.0</td><td>76674.69203179907</td><td>89317.0</td><td>0.004408234204055521</td><td>0.0030662008528969803</td><td>0.001342033152151689</td><td>27</td><td>24</td><td>wstat</td><td>56.70153766623967</td><td>2357</td><td>24.0</td><td>240.61248779296875</td><td>0.09974544495344162</td></tr>\n",
       "</table></div>"
      ],
      "text/plain": [
       "<Table length=54>\n",
       "  name  counts        excess             sqrt_ts            background           npred        ... stat_type      stat_sum      counts_off acceptance   acceptance_off          alpha       \n",
       "                                                                                              ...                                                                                          \n",
       "  str7  int64        float64             float64             float64            float64       ...    str5        float64         int64     float64        float64             float64      \n",
       "------- ------ ------------------- -------------------- ------------------ ------------------ ... --------- ------------------ ---------- ---------- ------------------ -------------------\n",
       "stacked      4 -0.7500004768371582 -0.34066360605212953  4.750000476837158 4.6923078213923075 ...     wstat 3.9432778742404646         57       24.0  287.9999694824219  0.0833333432674408\n",
       "stacked     12  1.8500003814697266   0.5387795565090371 10.149999618530273 10.308029059579251 ...     wstat 12.822137441965236        111       24.0 262.46307373046875 0.09144143760204315\n",
       "stacked     16   2.683333396911621   0.6765490603654949 13.316666603088379 13.563131950969202 ...     wstat 12.253636687599741        130       24.0 234.29287719726562  0.1024358943104744\n",
       "stacked     21   2.083332061767578   0.4475987379499982 18.916667938232422 19.108340973368787 ...     wstat  11.90060186385897        186       24.0 235.98236083984375 0.10170251876115799\n",
       "stacked     26  0.5833320617675781  0.11005335090277497 25.416667938232422 25.468461376179892 ...     wstat 11.260129486489278        264       24.0  249.2852325439453 0.09627525508403778\n",
       "stacked     35   7.333333969116211   1.2744555294670277  27.66666603088379 28.297107811589324 ...     wstat 13.224305103698342        291       24.0 252.43374633789062 0.09507445245981216\n",
       "stacked     42   8.416667938232422   1.3321341687629302  33.58333206176758 34.273698292728334 ...     wstat 13.167198318180386        362       24.0 258.69976806640625 0.09277163445949554\n",
       "stacked     46   10.51666259765625    1.607643636280654  35.48333740234375  36.34362860575836 ...     wstat 14.372010111213246        381       24.0 257.69842529296875 0.09313211590051651\n",
       "stacked     53  11.683334350585938    1.659816585811076  41.31666564941406   42.2722135376277 ...     wstat 13.726602061185623        451       24.0 261.97662353515625 0.09161122888326645\n",
       "stacked     58   10.88333511352539    1.458904118490616  47.11666488647461  48.01999066260942 ...     wstat 13.452327579696432        509       24.0  259.2713317871094 0.09256712347269058\n",
       "stacked     70  15.883331298828125   1.9620002746619207 54.116668701171875 55.506538620306515 ...     wstat 19.934210049855118        551       24.0 244.36093139648438 0.09821537137031555\n",
       "stacked     78  18.799999237060547    2.213839485309653  59.20000076293945 60.841906767147236 ...     wstat 21.856842717262253        612       24.0  248.1081085205078 0.09673202782869339\n",
       "stacked     85  22.299999237060547   2.5341626355353277  62.70000076293945   64.6801461507482 ...     wstat  23.54944111004543        633       24.0 242.29666137695312 0.09905213117599487\n",
       "stacked     90  22.100006103515625   2.4242127723165128  67.89999389648438  69.85336841862096 ...     wstat  23.25490025965229        685       24.0  242.1207733154297 0.09912408143281937\n",
       "stacked     93   23.26666259765625   2.5159283775400256  69.73333740234375  71.78285223679423 ...     wstat 23.871005971738356        707       24.0  243.3269500732422 0.09863272309303284\n",
       "stacked     98  24.933334350585938     2.62848246098064  73.06666564941406  75.31403189605068 ...     wstat 25.417223387374058        727       24.0 238.79562377929688 0.10050435364246368\n",
       "stacked    104  26.599998474121094   2.7251192982577424   77.4000015258789   79.7751737091068 ...     wstat 26.660923663406642        779       24.0  241.5503692626953 0.09935815632343292\n",
       "    ...    ...                 ...                  ...                ...                ... ...       ...                ...        ...        ...                ...                 ...\n",
       "stacked    235   71.26666259765625    4.939074265727005 163.73333740234375 170.45906217305938 ...     wstat  50.08639952158326       1561       24.0 228.81106567382812 0.10489003360271454\n",
       "stacked    237   70.46665954589844    4.851091765063553 166.53334045410156 173.17732929032124 ...     wstat   48.7454247614555       1589       24.0 228.99917602539062 0.10480386763811111\n",
       "stacked    241   70.79998779296875    4.827666796784683 170.20001220703125 176.83691959575214 ...     wstat  48.47451725321173       1633       24.0 230.27024841308594 0.10422535985708237\n",
       "stacked    248   72.38331604003906    4.863573786509955 175.61668395996094 182.35441974561178 ...     wstat  50.50041425283971       1698       24.0 232.05084228515625 0.10342560708522797\n",
       "stacked    253   70.96665954589844    4.700939244812208 182.03334045410156 188.58919625736456 ...     wstat 47.855826425420574       1775       24.0  234.0230712890625 0.10255399346351624\n",
       "stacked    262   75.79997253417969    4.953434793139932  186.2000274658203  193.1723881342309 ...     wstat  50.16164078642463       1825       24.0  235.2309112548828 0.10202740877866745\n",
       "stacked    268   76.46664428710938    4.929814746181355 191.53335571289062 198.64150092120533 ...     wstat  49.05927073174499       1857       24.0 232.69053649902344 0.10314127802848816\n",
       "stacked    275   77.46664428710938    4.924770391140337 197.53335571289062 204.69386539561864 ...     wstat  50.84580877334008       1929       24.0 234.37054443359375 0.10240194946527481\n",
       "stacked    285   84.46664428710938    5.307077953513409 200.53335571289062  208.3288941940654 ...     wstat  54.13760848782644       1959       24.0  234.4547576904297  0.1023651659488678\n",
       "stacked    286   83.76663208007812     5.24629967274216 202.23336791992188 209.96422503017442 ...     wstat  54.36960686620753       1976       24.0 234.50137329101562  0.1023448184132576\n",
       "stacked    292    85.3499755859375    5.290274050620189  206.6500244140625 214.49443762305634 ...     wstat  53.20748833347936       2029       24.0   235.644775390625 0.10184821486473083\n",
       "stacked    296   88.18330383300781    5.440998106732777  207.8166961669922 215.94601848906194 ...     wstat  54.27814737975008       2036       24.0  235.1302947998047 0.10207106918096542\n",
       "stacked    301   89.68331909179688     5.48853207855882 211.31668090820312 219.55058007313158 ...     wstat 54.610298574144664       2078       24.0 236.00596618652344 0.10169234126806259\n",
       "stacked    309   93.43331909179688    5.655291822297839 215.56668090820312  224.1111775134587 ...     wstat  55.40684171807486       2129       24.0 237.03106689453125 0.10125254839658737\n",
       "stacked    319   98.68330383300781    5.897489602924468  220.3166961669922 229.30639454179055 ...     wstat  57.88782640603118       2186       24.0  238.1299285888672 0.10078531503677368\n",
       "stacked    322   98.48330688476562   5.8493912810237205 223.51669311523438 232.48483222604818 ...     wstat  56.55105294037804       2218       24.0 238.15670776367188 0.10077398270368576\n",
       "stacked    333    103.316650390625    6.047310252342386   229.683349609375 239.04955791857236 ...     wstat 57.774835572214414       2292       24.0  239.4949493408203 0.10021088272333145\n",
       "stacked    338  102.89997863769531    5.964875231204717 235.10000610351562 244.39965367910253 ...     wstat  56.70153766623967       2357       24.0 240.61248779296875 0.09974544495344162"
      ]
     },
     "metadata": {},
     "output_type": "display_data"
    }
   ],
   "source": [
    "info_table = datasets.info_table(cumulative=True)\n",
    "\n",
    "display(info_table)"
   ]
  },
  {
   "cell_type": "code",
   "execution_count": 73,
   "id": "fae53580-be38-4ad2-a238-91308eb08e89",
   "metadata": {},
   "outputs": [
    {
     "data": {
      "image/png": "[encoded data removed]",
      "text/plain": [
       "<Figure size 1000x400 with 2 Axes>"
      ]
     },
     "metadata": {},
     "output_type": "display_data"
    }
   ],
   "source": [
    "fig, (ax_excess, ax_sqrt_ts) = plt.subplots(figsize=(10, 4), ncols=2, nrows=1)\n",
    "ax_excess.plot(\n",
    "    info_table[\"livetime\"].to(\"h\"),\n",
    "    info_table[\"excess\"],\n",
    "    marker=\"o\",\n",
    "    ls=\"none\",\n",
    ")\n",
    "\n",
    "ax_excess.set_title(\"Excess\")\n",
    "ax_excess.set_xlabel(\"Livetime [h]\")\n",
    "ax_excess.set_ylabel(\"Excess events\")\n",
    "\n",
    "ax_sqrt_ts.plot(\n",
    "    info_table[\"livetime\"].to(\"h\"),\n",
    "    info_table[\"sqrt_ts\"],\n",
    "    marker=\"o\",\n",
    "    ls=\"none\",\n",
    ")\n",
    "\n",
    "ax_sqrt_ts.set_title(\"Sqrt(TS)\")\n",
    "ax_sqrt_ts.set_xlabel(\"Livetime [h]\")\n",
    "ax_sqrt_ts.set_ylabel(\"Sqrt(TS)\")\n",
    "plt.show()"
   ]
  },
  {
   "cell_type": "code",
   "execution_count": 74,
   "id": "bade6f36-07f3-45f3-a9f7-81013a8b8eba",
   "metadata": {},
   "outputs": [],
   "source": [
    "dataset_stacked = Datasets(datasets).stack_reduce()"
   ]
  },
  {
   "cell_type": "code",
   "execution_count": 78,
   "id": "a20c84e9-4be7-4b73-9b7b-245708874929",
   "metadata": {},
   "outputs": [],
   "source": [
    "spectral_model = PowerLawSpectralModel(\n",
    "    amplitude=1e-12 * u.Unit(\"cm-2 s-1 TeV-1\"),\n",
    "    index=2,\n",
    "    reference=1 * u.TeV,\n",
    ")\n",
    "model = SkyModel(spectral_model=spectral_model, name=\"OJ 287\")\n",
    "\n",
    "dataset_stacked.models = [model]\n",
    "\n",
    "fit = Fit()\n",
    "result = fit.run(datasets=dataset_stacked)\n",
    "\n",
    "# we make a copy here to compare it later\n",
    "model_best = model.copy()"
   ]
  },
  {
   "cell_type": "code",
   "execution_count": null,
   "id": "9c3fb8d0-710b-488e-8e3b-3138c69cd4ea",
   "metadata": {},
   "outputs": [],
   "source": [
    "model_best"
   ]
  },
  {
   "cell_type": "code",
   "execution_count": 79,
   "id": "cfec3cf6-c823-4a1f-bf88-41deecdcae98",
   "metadata": {},
   "outputs": [
    {
     "data": {
      "text/html": [
       "<div><i>Table length=3</i>\n",
       "<table id=\"table136072472261648\" class=\"table-striped table-bordered table-condensed\">\n",
       "<thead><tr><th>type</th><th>name</th><th>value</th><th>unit</th><th>error</th><th>min</th><th>max</th><th>frozen</th><th>is_norm</th><th>link</th><th>prior</th></tr></thead>\n",
       "<thead><tr><th>str1</th><th>str9</th><th>float64</th><th>str14</th><th>float64</th><th>float64</th><th>float64</th><th>bool</th><th>bool</th><th>str1</th><th>str1</th></tr></thead>\n",
       "<tr><td></td><td>index</td><td>3.7619e+00</td><td></td><td>4.470e-01</td><td>nan</td><td>nan</td><td>False</td><td>False</td><td></td><td></td></tr>\n",
       "<tr><td></td><td>amplitude</td><td>1.1196e-13</td><td>TeV-1 s-1 cm-2</td><td>6.148e-14</td><td>nan</td><td>nan</td><td>False</td><td>True</td><td></td><td></td></tr>\n",
       "<tr><td></td><td>reference</td><td>1.0000e+00</td><td>TeV</td><td>0.000e+00</td><td>nan</td><td>nan</td><td>True</td><td>False</td><td></td><td></td></tr>\n",
       "</table></div>"
      ],
      "text/plain": [
       "<Table length=3>\n",
       "type    name     value         unit        error     min     max   frozen is_norm link prior\n",
       "str1    str9    float64       str14       float64  float64 float64  bool    bool  str1  str1\n",
       "---- --------- ---------- -------------- --------- ------- ------- ------ ------- ---- -----\n",
       "         index 3.7619e+00                4.470e-01     nan     nan  False   False           \n",
       "     amplitude 1.1196e-13 TeV-1 s-1 cm-2 6.148e-14     nan     nan  False    True           \n",
       "     reference 1.0000e+00            TeV 0.000e+00     nan     nan   True   False           "
      ]
     },
     "metadata": {},
     "output_type": "display_data"
    }
   ],
   "source": [
    "display(model_best.parameters.to_table())"
   ]
  },
  {
   "cell_type": "code",
   "execution_count": 95,
   "id": "2e34e657-e79a-4712-a412-3d444c0cbff7",
   "metadata": {},
   "outputs": [],
   "source": [
    "e_min, e_max = 0.1, 10\n",
    "energy_edges = np.geomspace(e_min, e_max, 10) * u.TeV\n",
    "\n",
    "fpe = FluxPointsEstimator(\n",
    "    energy_edges=energy_edges, source=\"OJ 287\", selection_optional=\"all\"\n",
    ")\n",
    "flux_points = fpe.run(datasets=dataset_stacked)"
   ]
  },
  {
   "cell_type": "code",
   "execution_count": 96,
   "id": "e20cbdcc-a765-41c4-b11d-a04cd1b8b8ee",
   "metadata": {},
   "outputs": [
    {
     "data": {
      "text/html": [
       "<div><i>Table length=9</i>\n",
       "<table id=\"table136072444534608\" class=\"table-striped table-bordered table-condensed\">\n",
       "<thead><tr><th>e_ref</th><th>e_min</th><th>e_max</th><th>dnde</th><th>dnde_err</th><th>dnde_errp</th><th>dnde_errn</th><th>dnde_ul</th><th>ts</th><th>sqrt_ts</th><th>npred</th><th>npred_excess</th><th>stat</th><th>stat_null</th><th>is_ul</th><th>counts</th><th>success</th><th>norm_scan</th><th>stat_scan</th></tr></thead>\n",
       "<thead><tr><th>TeV</th><th>TeV</th><th>TeV</th><th>1 / (TeV s cm2)</th><th>1 / (TeV s cm2)</th><th>1 / (TeV s cm2)</th><th>1 / (TeV s cm2)</th><th>1 / (TeV s cm2)</th><th></th><th></th><th></th><th></th><th></th><th></th><th></th><th></th><th></th><th></th><th></th></tr></thead>\n",
       "<thead><tr><th>float64</th><th>float64</th><th>float64</th><th>float64</th><th>float64</th><th>float64</th><th>float64</th><th>float64</th><th>float64</th><th>float64</th><th>float64[1]</th><th>float32[1]</th><th>float64</th><th>float64</th><th>bool</th><th>float64[1]</th><th>bool</th><th>float64[11]</th><th>float64[11]</th></tr></thead>\n",
       "<tr><td>0.125</td><td>0.100</td><td>0.156</td><td>nan</td><td>nan</td><td>nan</td><td>nan</td><td>nan</td><td>nan</td><td>nan</td><td>nan</td><td>0.0</td><td>0.000</td><td>0.000</td><td>False</td><td>0.0</td><td>False</td><td>0.200 .. 5.000</td><td>nan .. nan</td></tr>\n",
       "<tr><td>0.217</td><td>0.156</td><td>0.303</td><td>3.369e-11</td><td>9.164e-12</td><td>9.410e-12</td><td>8.925e-12</td><td>5.302e-11</td><td>16.814</td><td>4.101</td><td>130.45190011243528</td><td>43.35845</td><td>0.651</td><td>17.465</td><td>False</td><td>131.0</td><td>True</td><td>0.200 .. 5.000</td><td>10.723 .. 132.436</td></tr>\n",
       "<tr><td>0.379</td><td>0.303</td><td>0.473</td><td>3.641e-12</td><td>1.398e-12</td><td>1.439e-12</td><td>1.358e-12</td><td>6.601e-12</td><td>7.994</td><td>2.827</td><td>104.95148222846177</td><td>27.677315</td><td>1.342</td><td>9.337</td><td>False</td><td>105.0</td><td>True</td><td>0.200 .. 5.000</td><td>5.802 .. 97.153</td></tr>\n",
       "<tr><td>0.590</td><td>0.473</td><td>0.737</td><td>1.084e-12</td><td>4.286e-13</td><td>4.454e-13</td><td>4.124e-13</td><td>2.010e-12</td><td>7.951</td><td>2.820</td><td>61.67240585646486</td><td>20.371994</td><td>1.370</td><td>9.321</td><td>False</td><td>61.0</td><td>True</td><td>0.200 .. 5.000</td><td>6.911 .. 33.177</td></tr>\n",
       "<tr><td>1.028</td><td>0.737</td><td>1.434</td><td>1.635e-13</td><td>8.243e-14</td><td>8.681e-14</td><td>7.825e-14</td><td>3.462e-13</td><td>4.963</td><td>2.228</td><td>34.11647641262868</td><td>11.914619</td><td>0.426</td><td>5.389</td><td>False</td><td>34.0</td><td>True</td><td>0.200 .. 5.000</td><td>4.120 .. 12.486</td></tr>\n",
       "<tr><td>1.790</td><td>1.434</td><td>2.235</td><td>-7.023e-15</td><td>2.279e-14</td><td>2.596e-14</td><td>nan</td><td>5.206e-14</td><td>0.088</td><td>-0.297</td><td>4.18279230006097</td><td>-0.66811746</td><td>4.221</td><td>4.309</td><td>True</td><td>4.0</td><td>True</td><td>0.200 .. 5.000</td><td>4.379 .. 9.407</td></tr>\n",
       "<tr><td>2.790</td><td>2.235</td><td>3.483</td><td>-2.932e-15</td><td>7.662e-15</td><td>9.413e-15</td><td>nan</td><td>nan</td><td>0.128</td><td>-0.358</td><td>0.8348880565043036</td><td>-0.45671442</td><td>1.978</td><td>2.106</td><td>True</td><td>1.0</td><td>True</td><td>0.200 .. 5.000</td><td>2.147 .. 4.007</td></tr>\n",
       "<tr><td>4.348</td><td>3.483</td><td>5.429</td><td>2.667e-15</td><td>4.390e-15</td><td>nan</td><td>nan</td><td>nan</td><td>0.514</td><td>0.717</td><td>1.2768922099424103</td><td>0.64459866</td><td>2.789</td><td>3.303</td><td>True</td><td>1.0</td><td>True</td><td>0.200 .. 5.000</td><td>3.265 .. 2.800</td></tr>\n",
       "<tr><td>7.573</td><td>5.429</td><td>10.564</td><td>-1.224e-32</td><td>4.176e-17</td><td>nan</td><td>nan</td><td>nan</td><td>0.000</td><td>-0.000</td><td>0.24489800233249545</td><td>-7.862852e-18</td><td>0.511</td><td>0.511</td><td>True</td><td>0.0</td><td>True</td><td>0.200 .. 5.000</td><td>0.525 .. 0.865</td></tr>\n",
       "</table></div>"
      ],
      "text/plain": [
       "<Table length=9>\n",
       " e_ref   e_min   e_max        dnde          dnde_err       dnde_errp       dnde_errn        dnde_ul     ...   stat  stat_null is_ul   counts   success   norm_scan        stat_scan    \n",
       "  TeV     TeV     TeV   1 / (TeV s cm2) 1 / (TeV s cm2) 1 / (TeV s cm2) 1 / (TeV s cm2) 1 / (TeV s cm2) ...                                                                            \n",
       "float64 float64 float64     float64         float64         float64         float64         float64     ... float64  float64   bool float64[1]   bool   float64[11]      float64[11]   \n",
       "------- ------- ------- --------------- --------------- --------------- --------------- --------------- ... ------- --------- ----- ---------- ------- -------------- -----------------\n",
       "  0.125   0.100   0.156             nan             nan             nan             nan             nan ...   0.000     0.000 False        0.0   False 0.200 .. 5.000        nan .. nan\n",
       "  0.217   0.156   0.303       3.369e-11       9.164e-12       9.410e-12       8.925e-12       5.302e-11 ...   0.651    17.465 False      131.0    True 0.200 .. 5.000 10.723 .. 132.436\n",
       "  0.379   0.303   0.473       3.641e-12       1.398e-12       1.439e-12       1.358e-12       6.601e-12 ...   1.342     9.337 False      105.0    True 0.200 .. 5.000   5.802 .. 97.153\n",
       "  0.590   0.473   0.737       1.084e-12       4.286e-13       4.454e-13       4.124e-13       2.010e-12 ...   1.370     9.321 False       61.0    True 0.200 .. 5.000   6.911 .. 33.177\n",
       "  1.028   0.737   1.434       1.635e-13       8.243e-14       8.681e-14       7.825e-14       3.462e-13 ...   0.426     5.389 False       34.0    True 0.200 .. 5.000   4.120 .. 12.486\n",
       "  1.790   1.434   2.235      -7.023e-15       2.279e-14       2.596e-14             nan       5.206e-14 ...   4.221     4.309  True        4.0    True 0.200 .. 5.000    4.379 .. 9.407\n",
       "  2.790   2.235   3.483      -2.932e-15       7.662e-15       9.413e-15             nan             nan ...   1.978     2.106  True        1.0    True 0.200 .. 5.000    2.147 .. 4.007\n",
       "  4.348   3.483   5.429       2.667e-15       4.390e-15             nan             nan             nan ...   2.789     3.303  True        1.0    True 0.200 .. 5.000    3.265 .. 2.800\n",
       "  7.573   5.429  10.564      -1.224e-32       4.176e-17             nan             nan             nan ...   0.511     0.511  True        0.0    True 0.200 .. 5.000    0.525 .. 0.865"
      ]
     },
     "metadata": {},
     "output_type": "display_data"
    }
   ],
   "source": [
    "display(flux_points.to_table(sed_type=\"dnde\", formatted=True))"
   ]
  },
  {
   "cell_type": "code",
   "execution_count": 103,
   "id": "8d4ee49e-222b-4ffe-b3e4-ecce3a1ba064",
   "metadata": {},
   "outputs": [
    {
     "data": {
      "image/png": "[encoded data removed]",
      "text/plain": [
       "<Figure size 640x480 with 1 Axes>"
      ]
     },
     "metadata": {},
     "output_type": "display_data"
    }
   ],
   "source": [
    "fig, ax = plt.subplots()\n",
    "\n",
    "plot_kwargs = {\n",
    "    \"energy_bounds\": [0.1, 30] * u.TeV,\n",
    "    \"sed_type\": \"e2dnde\",\n",
    "    \"yunits\": u.Unit(\"erg cm-2 s-1\"),\n",
    "    \"ax\": ax,\n",
    "}\n",
    "\n",
    "# plot stacked model\n",
    "model_best.spectral_model.plot(**plot_kwargs, label=\"Stacked analysis result\")\n",
    "model_best.spectral_model.plot_error(facecolor=\"blue\", alpha=0.3, **plot_kwargs)\n",
    "\n",
    "crab = create_crab_spectral_model(\"hess_pl\")\n",
    "crab.plot(\n",
    "    **plot_kwargs,\n",
    "    label=\"Crab reference\",\n",
    ")\n",
    "\n",
    "flux_points.plot(ax=ax, sed_type=\"e2dnde\", color=\"darkorange\")\n",
    "# flux_points.plot_ts_profiles(ax=ax, sed_type=\"e2dnde\")\n",
    "ax.legend()\n",
    "plt.show()\n",
    "\n",
    "# sphinx_gallery_thumbnail_number = 5"
   ]
  },
  {
   "cell_type": "code",
   "execution_count": 98,
   "id": "7edc15f6-50fb-4abb-a388-a94f7c7cb217",
   "metadata": {},
   "outputs": [],
   "source": [
    "# group results to an output file\n",
    "flux_point_table = flux_points.to_table(sed_type=\"dnde\", formatted=True)\n",
    "model = model_best.to_dict()"
   ]
  },
  {
   "cell_type": "code",
   "execution_count": 99,
   "id": "637a5769-c6d9-465d-a30a-df464351d455",
   "metadata": {},
   "outputs": [
    {
     "data": {
      "text/plain": [
       "{'name': 'Blb6q7Qz',\n",
       " 'type': 'SkyModel',\n",
       " 'spectral': {'type': 'PowerLawSpectralModel',\n",
       "  'parameters': [{'name': 'index',\n",
       "    'value': 3.7619151627564835,\n",
       "    'error': 0.4469681852923323},\n",
       "   {'name': 'amplitude',\n",
       "    'value': 1.1196069302527371e-13,\n",
       "    'unit': 'TeV-1 s-1 cm-2',\n",
       "    'error': 6.148069589568835e-14},\n",
       "   {'name': 'reference', 'value': 1.0, 'unit': 'TeV'}]}}"
      ]
     },
     "execution_count": 99,
     "metadata": {},
     "output_type": "execute_result"
    }
   ],
   "source": [
    "model"
   ]
  },
  {
   "cell_type": "code",
   "execution_count": 105,
   "id": "6b27bb30-bc28-48e6-82ba-56aac18afa45",
   "metadata": {},
   "outputs": [
    {
     "data": {
      "text/latex": [
       "$2.5952469 \\; \\mathrm{}$"
      ],
      "text/plain": [
       "<Quantity 2.59524685>"
      ]
     },
     "execution_count": 105,
     "metadata": {},
     "output_type": "execute_result"
    }
   ],
   "source": [
    "100 * model_best.spectral_model.integral(0.1 * u.TeV,30 * u.TeV) / crab.integral(0.1 * u.TeV,30 * u.TeV)"
   ]
  },
  {
   "cell_type": "code",
   "execution_count": 190,
   "id": "31c854b4-4b28-428e-8b72-9a3cafb74a25",
   "metadata": {},
   "outputs": [],
   "source": [
    "from gammapy.estimators import LightCurveEstimator\n",
    "import math"
   ]
  },
  {
   "cell_type": "code",
   "execution_count": 306,
   "id": "8e3d79c9-1e3d-4573-beb3-6a1ebb8eade4",
   "metadata": {},
   "outputs": [
    {
     "name": "stdout",
     "output_type": "stream",
     "text": [
      "57754.0 57813.0\n"
     ]
    }
   ],
   "source": [
    "print (tstart tstop.mjd)"
   ]
  },
  {
   "cell_type": "code",
   "execution_count": 328,
   "id": "8da31d19-f7a1-4efa-a461-2ce2ebf5e697",
   "metadata": {},
   "outputs": [
    {
     "name": "stdout",
     "output_type": "stream",
     "text": [
      "12\n",
      "['2017-01-01T00:00:00.000' '2017-01-06T00:00:00.000'\n",
      " '2017-01-11T00:00:00.000' '2017-01-16T00:00:00.000'\n",
      " '2017-01-21T00:00:00.000' '2017-01-26T00:00:00.000'\n",
      " '2017-01-31T00:00:00.000' '2017-02-05T00:00:00.000'\n",
      " '2017-02-10T00:00:00.000' '2017-02-15T00:00:00.000'\n",
      " '2017-02-20T00:00:00.000' '2017-02-25T00:00:00.000']\n"
     ]
    }
   ],
   "source": [
    "t0 = tstart\n",
    "duration = 5 * u.day\n",
    "n_time_bins = math.ceil((tstop - tstart) / duration)\n",
    "print (n_time_bins)\n",
    "times = t0 + np.arange(n_time_bins) * duration\n",
    "print (times)\n",
    "time_intervals = [Time([_tstart, _tstop]) for _tstart, _tstop in zip(times[:-1], times[1:])]\n"
   ]
  },
  {
   "cell_type": "code",
   "execution_count": 332,
   "id": "da154f3a-62ba-4ee5-a392-90845a0e91fc",
   "metadata": {},
   "outputs": [],
   "source": [
    "\n",
    "\n",
    "dataset_joint = Datasets(datasets)\n",
    "dataset_joint.model = model_best.copy()"
   ]
  },
  {
   "cell_type": "code",
   "execution_count": 333,
   "id": "3c3afbcc-0171-4ed2-a634-aef947c951da",
   "metadata": {},
   "outputs": [],
   "source": [
    "lc_maker_1d = LightCurveEstimator(time_intervals= time_intervals,\n",
    "    energy_edges=[0.1, 10] * u.TeV, source=\"OJ 287\", reoptimize=False,\n",
    ")\n"
   ]
  },
  {
   "cell_type": "code",
   "execution_count": 334,
   "id": "c582aa78-cf14-4c36-94f9-2d695d7e4973",
   "metadata": {},
   "outputs": [],
   "source": [
    "lc_1d = lc_maker_1d.run(dataset_joint, )\n",
    "\n"
   ]
  },
  {
   "cell_type": "code",
   "execution_count": 335,
   "id": "e808c080-836f-4e77-9bf6-c6e3f6bf18b8",
   "metadata": {},
   "outputs": [
    {
     "name": "stdout",
     "output_type": "stream",
     "text": [
      "['energy', 'time']\n"
     ]
    },
    {
     "data": {
      "text/html": [
       "<div><i>Table length=4</i>\n",
       "<table id=\"table136072186461776\" class=\"table-striped table-bordered table-condensed\">\n",
       "<thead><tr><th>time_min</th><th>time_max</th><th>e_ref</th><th>e_min</th><th>e_max</th><th>flux</th><th>flux_err</th><th>ts</th><th>sqrt_ts</th><th>npred</th><th>npred_excess</th><th>stat</th><th>stat_null</th><th>counts</th><th>success</th></tr></thead>\n",
       "<thead><tr><th></th><th></th><th>TeV</th><th>TeV</th><th>TeV</th><th>1 / (s cm2)</th><th>1 / (s cm2)</th><th></th><th></th><th></th><th></th><th></th><th></th><th></th><th></th></tr></thead>\n",
       "<thead><tr><th>float64</th><th>float64</th><th>float64[1]</th><th>float64[1]</th><th>float64[1]</th><th>float64[1]</th><th>float64[1]</th><th>float64[1]</th><th>float64[1]</th><th>float64[1,54]</th><th>float64[1,54]</th><th>float64[1]</th><th>float64[1]</th><th>float64[1,54]</th><th>bool[1]</th></tr></thead>\n",
       "<tr><td>57774.00080074074</td><td>57779.00080074074</td><td>1.027808532802195</td><td>0.10000000000000002</td><td>10.563903801010005</td><td>2.3877790942146748e-18</td><td>1.0159110035843828e-15</td><td>-5.320563879251949e-06</td><td>0.0</td><td>4.692308779500709 .. nan</td><td>1.13352871267125e-06 .. nan</td><td>50.02839459965676</td><td>50.02838927909288</td><td>4.0 .. nan</td><td>True</td></tr>\n",
       "<tr><td>57784.00080074074</td><td>57789.00080074074</td><td>1.027808532802195</td><td>0.10000000000000002</td><td>10.563903801010005</td><td>4.7822753407227656e-18</td><td>8.347880303372503e-16</td><td>-5.199156333901556e-06</td><td>0.0</td><td>nan .. nan</td><td>nan .. nan</td><td>175.67895014820954</td><td>175.6789449490532</td><td>nan .. nan</td><td>True</td></tr>\n",
       "<tr><td>57799.00080074074</td><td>57804.00080074074</td><td>1.027808532802195</td><td>0.10000000000000002</td><td>10.563903801010005</td><td>4.881108282022374e-12</td><td>2.2932646100987925e-12</td><td>5.42595273443397</td><td>2.32936745371656</td><td>nan .. nan</td><td>nan .. nan</td><td>41.41690389084828</td><td>46.84285662528225</td><td>nan .. nan</td><td>True</td></tr>\n",
       "<tr><td>57804.00080074074</td><td>57809.00080074074</td><td>1.027808532802195</td><td>0.10000000000000002</td><td>10.563903801010005</td><td>1.3703319870389946e-12</td><td>2.043170806582187e-12</td><td>0.4688767390639157</td><td>0.684745747751613</td><td>nan .. nan</td><td>nan .. nan</td><td>114.12659056916846</td><td>114.59546730823237</td><td>nan .. nan</td><td>True</td></tr>\n",
       "</table></div>"
      ],
      "text/plain": [
       "<Table length=4>\n",
       "     time_min          time_max           e_ref              e_min              e_max        ...         npred_excess               stat            stat_null          counts    success\n",
       "                                           TeV                TeV                TeV         ...                                                                                        \n",
       "     float64           float64          float64[1]         float64[1]         float64[1]     ...        float64[1,54]            float64[1]         float64[1]     float64[1,54] bool[1]\n",
       "----------------- ----------------- ----------------- ------------------- ------------------ ... --------------------------- ------------------ ------------------ ------------- -------\n",
       "57774.00080074074 57779.00080074074 1.027808532802195 0.10000000000000002 10.563903801010005 ... 1.13352871267125e-06 .. nan  50.02839459965676  50.02838927909288    4.0 .. nan    True\n",
       "57784.00080074074 57789.00080074074 1.027808532802195 0.10000000000000002 10.563903801010005 ...                  nan .. nan 175.67895014820954  175.6789449490532    nan .. nan    True\n",
       "57799.00080074074 57804.00080074074 1.027808532802195 0.10000000000000002 10.563903801010005 ...                  nan .. nan  41.41690389084828  46.84285662528225    nan .. nan    True\n",
       "57804.00080074074 57809.00080074074 1.027808532802195 0.10000000000000002 10.563903801010005 ...                  nan .. nan 114.12659056916846 114.59546730823237    nan .. nan    True"
      ]
     },
     "metadata": {},
     "output_type": "display_data"
    }
   ],
   "source": [
    "print(lc_1d.geom.axes.names)\n",
    "\n",
    "display(lc_1d.to_table(sed_type=\"flux\", format=\"lightcurve\"))"
   ]
  },
  {
   "cell_type": "code",
   "execution_count": 336,
   "id": "b643ceee-0045-48e9-9985-b452c0fb88f8",
   "metadata": {},
   "outputs": [
    {
     "data": {
      "image/png": "[encoded data removed]",
      "text/plain": [
       "<Figure size 800x600 with 1 Axes>"
      ]
     },
     "metadata": {},
     "output_type": "display_data"
    }
   ],
   "source": [
    "plt.figure(figsize=(8, 6))\n",
    "lc_1d.plot(marker=\"o\", sed_type=\"flux\",time_format=\"mjd\")\n",
    "plt.show()"
   ]
  },
  {
   "cell_type": "code",
   "execution_count": null,
   "id": "775af8dc-e95a-4452-a639-9a8b134e877b",
   "metadata": {},
   "outputs": [],
   "source": []
  }
 ],
 "metadata": {
  "kernelspec": {
   "display_name": "Python 3 (ipykernel)",
   "language": "python",
   "name": "python3"
  },
  "language_info": {
   "codemirror_mode": {
    "name": "ipython",
    "version": 3
   },
   "file_extension": ".py",
   "mimetype": "text/x-python",
   "name": "python",
   "nbconvert_exporter": "python",
   "pygments_lexer": "ipython3",
   "version": "3.11.9"
  }
 },
 "nbformat": 4,
 "nbformat_minor": 5
}
